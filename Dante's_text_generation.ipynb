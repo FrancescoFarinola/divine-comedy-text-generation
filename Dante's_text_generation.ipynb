{
  "nbformat": 4,
  "nbformat_minor": 0,
  "metadata": {
    "accelerator": "GPU",
    "colab": {
      "name": "Dante's_text_generation.ipynb",
      "provenance": [],
      "collapsed_sections": [],
      "toc_visible": true
    },
    "kernelspec": {
      "display_name": "Python 3",
      "name": "python3"
    },
    "language_info": {
      "name": "python"
    }
  },
  "cells": [
    {
      "cell_type": "markdown",
      "metadata": {
        "id": "5XvP3WEqrHN1"
      },
      "source": [
        "# Load data and imports"
      ]
    },
    {
      "cell_type": "markdown",
      "metadata": {
        "id": "oSHAjEjgjy9r"
      },
      "source": [
        "In this section, we just clone the repository and load the dataset in a DataFrame splitting the dataset by \"Canti\""
      ]
    },
    {
      "cell_type": "code",
      "metadata": {
        "colab": {
          "base_uri": "https://localhost:8080/"
        },
        "id": "wGILrolhfbar",
        "outputId": "7f99f225-0357-44d6-b159-9744af4ab2b3"
      },
      "source": [
        "!git clone https://github.com/FrancescoFarinola/divine-comedy-text-generation"
      ],
      "execution_count": null,
      "outputs": [
        {
          "output_type": "stream",
          "name": "stdout",
          "text": [
            "fatal: il percorso di destinazione 'divine-comedy-text-generation' esiste già e non è una directory vuota.\r\n"
          ]
        }
      ]
    },
    {
      "cell_type": "code",
      "metadata": {
        "colab": {
          "base_uri": "https://localhost:8080/",
          "height": 424
        },
        "id": "61IwnQDkjV5r",
        "outputId": "a6279145-b49a-4cff-d694-2f49d580649e"
      },
      "source": [
        "import os\n",
        "import pandas as pd\n",
        "import numpy as np\n",
        "import matplotlib.pyplot as plt\n",
        "import math\n",
        "import sys\n",
        "import time\n",
        "import re\n",
        "import random\n",
        "\n",
        "%matplotlib inline\n",
        "\n",
        "sys.path.append('/content/divine-comedy-text-generation')\n",
        "\n",
        "path = 'divine-comedy-text-generation/'\n",
        "filenames = ['inferno.txt', 'purgatorio.txt', 'paradiso.txt']\n",
        "\n",
        "columns =  ['Cantica', 'Canto', 'Text']\n",
        "data = []\n",
        "for file in filenames:\n",
        "  filepath = path + file\n",
        "  with open(filepath, 'r') as f:\n",
        "    lines = f.readlines()\n",
        "    start = True\n",
        "    for line in lines:\n",
        "      if 'Canto' in line:\n",
        "        if start: \n",
        "          row = np.empty(3, dtype=object)\n",
        "          start = False\n",
        "        else:\n",
        "          row[2] = canto\n",
        "          data.append(row)\n",
        "          row = np.empty(3, dtype=object)\n",
        "        head = line.split()\n",
        "        row[0] = head[0]\n",
        "        row[1] = head[3]\n",
        "        canto = \"\"\n",
        "      elif line != \"\\n\":\n",
        "        canto = canto + line\n",
        "    row[2] = canto  \n",
        "    data.append(row)\n",
        "    f.close()\n",
        "\n",
        "df = pd.DataFrame(data, columns=columns)\n",
        "\n",
        "df"
      ],
      "execution_count": 1,
      "outputs": [
        {
          "output_type": "execute_result",
          "data": {
            "text/plain": [
              "     Cantica   Canto                                               Text\n",
              "0    Inferno       I    Nel mezzo del cammin di nostra vita\\n  mi ri...\n",
              "1    Inferno      II    Lo giorno se n’andava, e l’aere bruno\\n  tog...\n",
              "2    Inferno     III    “Per me si va ne la città dolente,\\n  per me...\n",
              "3    Inferno      IV    Ruppemi l’alto sonno ne la testa\\n  un greve...\n",
              "4    Inferno       V    Così discesi del cerchio primaio\\n  giù nel ...\n",
              "..       ...     ...                                                ...\n",
              "95  Paradiso    XXIX    Quando ambedue li figli di Latona,\\n  copert...\n",
              "96  Paradiso     XXX    Forse semilia miglia di lontano\\n  ci ferve ...\n",
              "97  Paradiso    XXXI    In forma dunque di candida rosa\\n  mi si mos...\n",
              "98  Paradiso   XXXII    Affetto al suo piacer, quel contemplante\\n  ...\n",
              "99  Paradiso  XXXIII    «Vergine Madre, figlia del tuo figlio,\\n  um...\n",
              "\n",
              "[100 rows x 3 columns]"
            ],
            "text/html": [
              "<div>\n",
              "<style scoped>\n",
              "    .dataframe tbody tr th:only-of-type {\n",
              "        vertical-align: middle;\n",
              "    }\n",
              "\n",
              "    .dataframe tbody tr th {\n",
              "        vertical-align: top;\n",
              "    }\n",
              "\n",
              "    .dataframe thead th {\n",
              "        text-align: right;\n",
              "    }\n",
              "</style>\n",
              "<table border=\"1\" class=\"dataframe\">\n",
              "  <thead>\n",
              "    <tr style=\"text-align: right;\">\n",
              "      <th></th>\n",
              "      <th>Cantica</th>\n",
              "      <th>Canto</th>\n",
              "      <th>Text</th>\n",
              "    </tr>\n",
              "  </thead>\n",
              "  <tbody>\n",
              "    <tr>\n",
              "      <th>0</th>\n",
              "      <td>Inferno</td>\n",
              "      <td>I</td>\n",
              "      <td>Nel mezzo del cammin di nostra vita\\n  mi ri...</td>\n",
              "    </tr>\n",
              "    <tr>\n",
              "      <th>1</th>\n",
              "      <td>Inferno</td>\n",
              "      <td>II</td>\n",
              "      <td>Lo giorno se n’andava, e l’aere bruno\\n  tog...</td>\n",
              "    </tr>\n",
              "    <tr>\n",
              "      <th>2</th>\n",
              "      <td>Inferno</td>\n",
              "      <td>III</td>\n",
              "      <td>“Per me si va ne la città dolente,\\n  per me...</td>\n",
              "    </tr>\n",
              "    <tr>\n",
              "      <th>3</th>\n",
              "      <td>Inferno</td>\n",
              "      <td>IV</td>\n",
              "      <td>Ruppemi l’alto sonno ne la testa\\n  un greve...</td>\n",
              "    </tr>\n",
              "    <tr>\n",
              "      <th>4</th>\n",
              "      <td>Inferno</td>\n",
              "      <td>V</td>\n",
              "      <td>Così discesi del cerchio primaio\\n  giù nel ...</td>\n",
              "    </tr>\n",
              "    <tr>\n",
              "      <th>...</th>\n",
              "      <td>...</td>\n",
              "      <td>...</td>\n",
              "      <td>...</td>\n",
              "    </tr>\n",
              "    <tr>\n",
              "      <th>95</th>\n",
              "      <td>Paradiso</td>\n",
              "      <td>XXIX</td>\n",
              "      <td>Quando ambedue li figli di Latona,\\n  copert...</td>\n",
              "    </tr>\n",
              "    <tr>\n",
              "      <th>96</th>\n",
              "      <td>Paradiso</td>\n",
              "      <td>XXX</td>\n",
              "      <td>Forse semilia miglia di lontano\\n  ci ferve ...</td>\n",
              "    </tr>\n",
              "    <tr>\n",
              "      <th>97</th>\n",
              "      <td>Paradiso</td>\n",
              "      <td>XXXI</td>\n",
              "      <td>In forma dunque di candida rosa\\n  mi si mos...</td>\n",
              "    </tr>\n",
              "    <tr>\n",
              "      <th>98</th>\n",
              "      <td>Paradiso</td>\n",
              "      <td>XXXII</td>\n",
              "      <td>Affetto al suo piacer, quel contemplante\\n  ...</td>\n",
              "    </tr>\n",
              "    <tr>\n",
              "      <th>99</th>\n",
              "      <td>Paradiso</td>\n",
              "      <td>XXXIII</td>\n",
              "      <td>«Vergine Madre, figlia del tuo figlio,\\n  um...</td>\n",
              "    </tr>\n",
              "  </tbody>\n",
              "</table>\n",
              "<p>100 rows × 3 columns</p>\n",
              "</div>"
            ]
          },
          "metadata": {},
          "execution_count": 1
        }
      ]
    },
    {
      "cell_type": "code",
      "metadata": {
        "colab": {
          "base_uri": "https://localhost:8080/"
        },
        "id": "Q8hB8wgvUqwV",
        "outputId": "d62e30c6-19dc-48de-dd4a-5e2bba6cd3b3"
      },
      "source": [
        "df.Text[0]"
      ],
      "execution_count": 2,
      "outputs": [
        {
          "output_type": "execute_result",
          "data": {
            "text/plain": [
              "'  Nel mezzo del cammin di nostra vita\\n  mi ritrovai per una selva oscura,\\n  ché la diritta via era smarrita.\\n  Ahi quanto a dir qual era è cosa dura\\n  esta selva selvaggia e aspra e forte\\n  che nel pensier rinova la paura!\\n  Tant’ è amara che poco è più morte;\\n  ma per trattar del ben ch’i’ vi trovai,\\n  dirò de l’altre cose ch’i’ v’ho scorte.\\n  Io non so ben ridir com’ i’ v’intrai,\\n  tant’ era pien di sonno a quel punto\\n  che la verace via abbandonai.\\n  Ma poi ch’i’ fui al piè d’un colle giunto,\\n  là dove terminava quella valle\\n  che m’avea di paura il cor compunto,\\n  guardai in alto e vidi le sue spalle\\n  vestite già de’ raggi del pianeta\\n  che mena dritto altrui per ogne calle.\\n  Allor fu la paura un poco queta,\\n  che nel lago del cor m’era durata\\n  la notte ch’i’ passai con tanta pieta.\\n  E come quei che con lena affannata,\\n  uscito fuor del pelago a la riva,\\n  si volge a l’acqua perigliosa e guata,\\n  così l’animo mio, ch’ancor fuggiva,\\n  si volse a retro a rimirar lo passo\\n  che non lasciò già mai persona viva.\\n  Poi ch’èi posato un poco il corpo lasso,\\n  ripresi via per la piaggia diserta,\\n  sì che ’l piè fermo sempre era ’l più basso.\\n  Ed ecco, quasi al cominciar de l’erta,\\n  una lonza leggera e presta molto,\\n  che di pel macolato era coverta;\\n  e non mi si partia dinanzi al volto,\\n  anzi ’mpediva tanto il mio cammino,\\n  ch’i’ fui per ritornar più volte vòlto.\\n  Temp’ era dal principio del mattino,\\n  e ’l sol montava ’n sù con quelle stelle\\n  ch’eran con lui quando l’amor divino\\n  mosse di prima quelle cose belle;\\n  sì ch’a bene sperar m’era cagione\\n  di quella fiera a la gaetta pelle\\n  l’ora del tempo e la dolce stagione;\\n  ma non sì che paura non mi desse\\n  la vista che m’apparve d’un leone.\\n  Questi parea che contra me venisse\\n  con la test’ alta e con rabbiosa fame,\\n  sì che parea che l’aere ne tremesse.\\n  Ed una lupa, che di tutte brame\\n  sembiava carca ne la sua magrezza,\\n  e molte genti fé già viver grame,\\n  questa mi porse tanto di gravezza\\n  con la paura ch’uscia di sua vista,\\n  ch’io perdei la speranza de l’altezza.\\n  E qual è quei che volontieri acquista,\\n  e giugne ’l tempo che perder lo face,\\n  che ’n tutti suoi pensier piange e s’attrista;\\n  tal mi fece la bestia sanza pace,\\n  che, venendomi ’ncontro, a poco a poco\\n  mi ripigneva là dove ’l sol tace.\\n  Mentre ch’i’ rovinava in basso loco,\\n  dinanzi a li occhi mi si fu offerto\\n  chi per lungo silenzio parea fioco.\\n  Quando vidi costui nel gran diserto,\\n  «Miserere di me», gridai a lui,\\n  «qual che tu sii, od ombra od omo certo!».\\n  Rispuosemi: «Non omo, omo già fui,\\n  e li parenti miei furon lombardi,\\n  mantoani per patrïa ambedui.\\n  Nacqui sub Iulio, ancor che fosse tardi,\\n  e vissi a Roma sotto ’l buono Augusto\\n  nel tempo de li dèi falsi e bugiardi.\\n  Poeta fui, e cantai di quel giusto\\n  figliuol d’Anchise che venne di Troia,\\n  poi che ’l superbo Ilïón fu combusto.\\n  Ma tu perché ritorni a tanta noia?\\n  perché non sali il dilettoso monte\\n  ch’è principio e cagion di tutta gioia?».\\n  «Or se’ tu quel Virgilio e quella fonte\\n  che spandi di parlar sì largo fiume?»,\\n  rispuos’ io lui con vergognosa fronte.\\n  «O de li altri poeti onore e lume,\\n  vagliami ’l lungo studio e ’l grande amore\\n  che m’ha fatto cercar lo tuo volume.\\n  Tu se’ lo mio maestro e ’l mio autore,\\n  tu se’ solo colui da cu’ io tolsi\\n  lo bello stilo che m’ha fatto onore.\\n  Vedi la bestia per cu’ io mi volsi;\\n  aiutami da lei, famoso saggio,\\n  ch’ella mi fa tremar le vene e i polsi».\\n  «A te convien tenere altro vïaggio»,\\n  rispuose, poi che lagrimar mi vide,\\n  «se vuo’ campar d’esto loco selvaggio;\\n  ché questa bestia, per la qual tu gride,\\n  non lascia altrui passar per la sua via,\\n  ma tanto lo ’mpedisce che l’uccide;\\n  e ha natura sì malvagia e ria,\\n  che mai non empie la bramosa voglia,\\n  e dopo ’l pasto ha più fame che pria.\\n  Molti son li animali a cui s’ammoglia,\\n  e più saranno ancora, infin che ’l veltro\\n  verrà, che la farà morir con doglia.\\n  Questi non ciberà terra né peltro,\\n  ma sapïenza, amore e virtute,\\n  e sua nazion sarà tra feltro e feltro.\\n  Di quella umile Italia fia salute\\n  per cui morì la vergine Cammilla,\\n  Eurialo e Turno e Niso di ferute.\\n  Questi la caccerà per ogne villa,\\n  fin che l’avrà rimessa ne lo ’nferno,\\n  là onde ’nvidia prima dipartilla.\\n  Ond’ io per lo tuo me’ penso e discerno\\n  che tu mi segui, e io sarò tua guida,\\n  e trarrotti di qui per loco etterno;\\n  ove udirai le disperate strida,\\n  vedrai li antichi spiriti dolenti,\\n  ch’a la seconda morte ciascun grida;\\n  e vederai color che son contenti\\n  nel foco, perché speran di venire\\n  quando che sia a le beate genti.\\n  A le quai poi se tu vorrai salire,\\n  anima fia a ciò più di me degna:\\n  con lei ti lascerò nel mio partire;\\n  ché quello imperador che là sù regna,\\n  perch’ i’ fu’ ribellante a la sua legge,\\n  non vuol che ’n sua città per me si vegna.\\n  In tutte parti impera e quivi regge;\\n  quivi è la sua città e l’alto seggio:\\n  oh felice colui cu’ ivi elegge!».\\n  E io a lui: «Poeta, io ti richeggio\\n  per quello Dio che tu non conoscesti,\\n  acciò ch’io fugga questo male e peggio,\\n  che tu mi meni là dov’ or dicesti,\\n  sì ch’io veggia la porta di san Pietro\\n  e color cui tu fai cotanto mesti».\\n  Allor si mosse, e io li tenni dietro.\\n'"
            ]
          },
          "metadata": {},
          "execution_count": 2
        }
      ]
    },
    {
      "cell_type": "markdown",
      "metadata": {
        "id": "J4g7PMAdrPxB"
      },
      "source": [
        "# Preprocessing"
      ]
    },
    {
      "cell_type": "code",
      "metadata": {
        "id": "Anxfg_iaz1OT"
      },
      "source": [
        "import re\n",
        "from functools import reduce\n",
        "import string\n",
        "\n",
        "\n",
        "PUNCTUATION_RE = re.compile(\"[-—!?:;,.«»“”]\")\n",
        "\n",
        "\n",
        "def clean_start(text):\n",
        "    return text.replace(\"  \", \"\", 1)\n",
        "\n",
        "def remove_double_whitespaces(text):\n",
        "    return text.replace(\"  \", \"\")\n",
        "\n",
        "def remove_punctuation(text):\n",
        "    return PUNCTUATION_RE.sub(\"\", text)\n",
        "\n",
        "def clean_newline(text):\n",
        "    return text.replace(\"\\n\", \" \\n \")\n",
        "\n",
        "def space_apostrophe(text):\n",
        "    return text.replace(\"’\", \"'\")\n",
        "\n",
        "def replace_uncommon_symbols(text):\n",
        "    \"\"\"\n",
        "    Replace uncomoon symbols with particular accents\n",
        "    \"\"\"\n",
        "    text = text.replace(\"ä\", \"a\")\n",
        "    text = text.replace(\"é\", \"è\")\n",
        "    text = text.replace(\"ë\", \"è\")\n",
        "    text = text.replace(\"Ë\", \"E\")\n",
        "    text = text.replace(\"ï\", \"i\")\n",
        "    text = text.replace(\"Ï\", \"I\")\n",
        "    text = text.replace(\"ó\", \"ò\")\n",
        "    text = text.replace(\"ö\", \"o\")\n",
        "    text = text.replace(\"ü\", \"u\")\n",
        "    text = text.replace(\"(\", \"-\")\n",
        "    text = text.replace(\")\", \"-\")\n",
        "    text = text.replace(\"[\", \"\")\n",
        "    text = text.replace(\"]\", \"\")\n",
        "    text = text.replace(\"ï\", \"i\")\n",
        "    return text\n",
        "\n",
        "\n",
        "def lower(text):\n",
        "    return text.lower()\n",
        "\n",
        "def adjust_newline(text):\n",
        "    return text.replace(\"\\n \", \"\\n\")\n",
        "\n",
        "\n",
        "def preprocessing(text):\n",
        "    return reduce(lambda text, f: f(text), PREPROCESSING_PIPELINE, text)\n",
        "\n",
        "\n",
        "PREPROCESSING_PIPELINE = [remove_double_whitespaces,\n",
        "                          remove_punctuation,\n",
        "                          remove_double_whitespaces,\n",
        "                          space_apostrophe,\n",
        "                          replace_uncommon_symbols,\n",
        "                          clean_newline]"
      ],
      "execution_count": 3,
      "outputs": []
    },
    {
      "cell_type": "code",
      "metadata": {
        "colab": {
          "base_uri": "https://localhost:8080/"
        },
        "id": "RcW7LVAU2pLe",
        "outputId": "79af23da-3dc9-477e-9504-aa276ab5e9f9"
      },
      "source": [
        "df['Text'] = df['Text'].apply(lambda x: preprocessing(x))\n",
        "df['Text'][0]"
      ],
      "execution_count": 4,
      "outputs": [
        {
          "output_type": "execute_result",
          "data": {
            "text/plain": [
              "\"Nel mezzo del cammin di nostra vita \\n mi ritrovai per una selva oscura \\n chè la diritta via era smarrita \\n Ahi quanto a dir qual era è cosa dura \\n esta selva selvaggia e aspra e forte \\n che nel pensier rinova la paura \\n Tant' è amara che poco è più morte \\n ma per trattar del ben ch'i' vi trovai \\n dirò de l'altre cose ch'i' v'ho scorte \\n Io non so ben ridir com' i' v'intrai \\n tant' era pien di sonno a quel punto \\n che la verace via abbandonai \\n Ma poi ch'i' fui al piè d'un colle giunto \\n là dove terminava quella valle \\n che m'avea di paura il cor compunto \\n guardai in alto e vidi le sue spalle \\n vestite già de' raggi del pianeta \\n che mena dritto altrui per ogne calle \\n Allor fu la paura un poco queta \\n che nel lago del cor m'era durata \\n la notte ch'i' passai con tanta pieta \\n E come quei che con lena affannata \\n uscito fuor del pelago a la riva \\n si volge a l'acqua perigliosa e guata \\n così l'animo mio ch'ancor fuggiva \\n si volse a retro a rimirar lo passo \\n che non lasciò già mai persona viva \\n Poi ch'èi posato un poco il corpo lasso \\n ripresi via per la piaggia diserta \\n sì che 'l piè fermo sempre era 'l più basso \\n Ed ecco quasi al cominciar de l'erta \\n una lonza leggera e presta molto \\n che di pel macolato era coverta \\n e non mi si partia dinanzi al volto \\n anzi 'mpediva tanto il mio cammino \\n ch'i' fui per ritornar più volte vòlto \\n Temp' era dal principio del mattino \\n e 'l sol montava 'n sù con quelle stelle \\n ch'eran con lui quando l'amor divino \\n mosse di prima quelle cose belle \\n sì ch'a bene sperar m'era cagione \\n di quella fiera a la gaetta pelle \\n l'ora del tempo e la dolce stagione \\n ma non sì che paura non mi desse \\n la vista che m'apparve d'un leone \\n Questi parea che contra me venisse \\n con la test' alta e con rabbiosa fame \\n sì che parea che l'aere ne tremesse \\n Ed una lupa che di tutte brame \\n sembiava carca ne la sua magrezza \\n e molte genti fè già viver grame \\n questa mi porse tanto di gravezza \\n con la paura ch'uscia di sua vista \\n ch'io perdei la speranza de l'altezza \\n E qual è quei che volontieri acquista \\n e giugne 'l tempo che perder lo face \\n che 'n tutti suoi pensier piange e s'attrista \\n tal mi fece la bestia sanza pace \\n che venendomi 'ncontro a poco a poco \\n mi ripigneva là dove 'l sol tace \\n Mentre ch'i' rovinava in basso loco \\n dinanzi a li occhi mi si fu offerto \\n chi per lungo silenzio parea fioco \\n Quando vidi costui nel gran diserto \\n Miserere di me gridai a lui \\n qual che tu sii od ombra od omo certo \\n Rispuosemi Non omo omo già fui \\n e li parenti miei furon lombardi \\n mantoani per patria ambedui \\n Nacqui sub Iulio ancor che fosse tardi \\n e vissi a Roma sotto 'l buono Augusto \\n nel tempo de li dèi falsi e bugiardi \\n Poeta fui e cantai di quel giusto \\n figliuol d'Anchise che venne di Troia \\n poi che 'l superbo Iliòn fu combusto \\n Ma tu perchè ritorni a tanta noia \\n perchè non sali il dilettoso monte \\n ch'è principio e cagion di tutta gioia \\n Or se' tu quel Virgilio e quella fonte \\n che spandi di parlar sì largo fiume \\n rispuos' io lui con vergognosa fronte \\n O de li altri poeti onore e lume \\n vagliami 'l lungo studio e 'l grande amore \\n che m'ha fatto cercar lo tuo volume \\n Tu se' lo mio maestro e 'l mio autore \\n tu se' solo colui da cu' io tolsi \\n lo bello stilo che m'ha fatto onore \\n Vedi la bestia per cu' io mi volsi \\n aiutami da lei famoso saggio \\n ch'ella mi fa tremar le vene e i polsi \\n A te convien tenere altro viaggio \\n rispuose poi che lagrimar mi vide \\n se vuo' campar d'esto loco selvaggio \\n chè questa bestia per la qual tu gride \\n non lascia altrui passar per la sua via \\n ma tanto lo 'mpedisce che l'uccide \\n e ha natura sì malvagia e ria \\n che mai non empie la bramosa voglia \\n e dopo 'l pasto ha più fame che pria \\n Molti son li animali a cui s'ammoglia \\n e più saranno ancora infin che 'l veltro \\n verrà che la farà morir con doglia \\n Questi non ciberà terra nè peltro \\n ma sapienza amore e virtute \\n e sua nazion sarà tra feltro e feltro \\n Di quella umile Italia fia salute \\n per cui morì la vergine Cammilla \\n Eurialo e Turno e Niso di ferute \\n Questi la caccerà per ogne villa \\n fin che l'avrà rimessa ne lo 'nferno \\n là onde 'nvidia prima dipartilla \\n Ond' io per lo tuo me' penso e discerno \\n che tu mi segui e io sarò tua guida \\n e trarrotti di qui per loco etterno \\n ove udirai le disperate strida \\n vedrai li antichi spiriti dolenti \\n ch'a la seconda morte ciascun grida \\n e vederai color che son contenti \\n nel foco perchè speran di venire \\n quando che sia a le beate genti \\n A le quai poi se tu vorrai salire \\n anima fia a ciò più di me degna \\n con lei ti lascerò nel mio partire \\n chè quello imperador che là sù regna \\n perch' i' fu' ribellante a la sua legge \\n non vuol che 'n sua città per me si vegna \\n In tutte parti impera e quivi regge \\n quivi è la sua città e l'alto seggio \\n oh felice colui cu' ivi elegge \\n E io a lui Poeta io ti richeggio \\n per quello Dio che tu non conoscesti \\n acciò ch'io fugga questo male e peggio \\n che tu mi meni là dov' or dicesti \\n sì ch'io veggia la porta di san Pietro \\n e color cui tu fai cotanto mesti \\n Allor si mosse e io li tenni dietro \\n \""
            ]
          },
          "metadata": {},
          "execution_count": 4
        }
      ]
    },
    {
      "cell_type": "markdown",
      "metadata": {
        "id": "-YnxMAIjrV62"
      },
      "source": [
        "# Markov Chain text generation"
      ]
    },
    {
      "cell_type": "code",
      "metadata": {
        "colab": {
          "base_uri": "https://localhost:8080/"
        },
        "id": "Cm8o-3CQWEcp",
        "outputId": "93ede373-e43d-4cfc-fa56-ee7d826c6df7"
      },
      "source": [
        "!pip install markovify"
      ],
      "execution_count": null,
      "outputs": [
        {
          "output_type": "stream",
          "name": "stdout",
          "text": [
            "Collecting markovify\n",
            "  Downloading markovify-0.9.3.tar.gz (28 kB)\n",
            "  Preparing metadata (setup.py) ... \u001b[?25l-\b \bdone\n",
            "\u001b[?25hRequirement already satisfied: unidecode in ./anaconda3/lib/python3.9/site-packages (from markovify) (1.2.0)\n",
            "Building wheels for collected packages: markovify\n",
            "  Building wheel for markovify (setup.py) ... \u001b[?25l-\b \bdone\n",
            "\u001b[?25h  Created wheel for markovify: filename=markovify-0.9.3-py3-none-any.whl size=18622 sha256=23ae42b260fd4baa27c0fa67f7857529c16bc88ce0c445a8a5359fe3d7cfdd7f\n",
            "  Stored in directory: /home/francesco/.cache/pip/wheels/6c/95/65/1d19e9b347e1027eeb1a6988af4a429ab7215f00d26dc6634b\n",
            "Successfully built markovify\n",
            "Installing collected packages: markovify\n",
            "Successfully installed markovify-0.9.3\n"
          ]
        }
      ]
    },
    {
      "cell_type": "code",
      "metadata": {
        "id": "PyVBzAPcVUWn"
      },
      "source": [
        "import markovify\n",
        "corpus = [text for text in df.Text]\n",
        "corpus = reduce(lambda x,y: x+y, corpus)\n",
        "model = markovify.NewlineText(corpus)"
      ],
      "execution_count": null,
      "outputs": []
    },
    {
      "cell_type": "code",
      "metadata": {
        "colab": {
          "base_uri": "https://localhost:8080/"
        },
        "id": "lNRnS7RKWPZD",
        "outputId": "8212a5cf-8c72-40ea-d7a5-24af358cdad4"
      },
      "source": [
        "for i in range(2):\n",
        "    print()\n",
        "    for i in range(0, 3):\n",
        "        print(model.make_short_sentence(40))"
      ],
      "execution_count": null,
      "outputs": [
        {
          "output_type": "stream",
          "name": "stdout",
          "text": [
            "\n",
            "e li atti loro a veder care,\n",
            "de l’Eneïda dico, la qual mi fece dono.\n",
            "distruggitor di sé claustro\n",
            "\n",
            "con Amiclate, al suon del trino spiro,\n",
            "che mi dà di pianger più che burro.\n",
            "che quel de l’Arca,\n"
          ]
        }
      ]
    },
    {
      "cell_type": "code",
      "metadata": {
        "colab": {
          "base_uri": "https://localhost:8080/",
          "height": 651
        },
        "id": "_-QFy9YdlSdg",
        "outputId": "19f0840f-cf50-4456-ec08-e312b166ea6e"
      },
      "source": [
        "import numpy as np\n",
        "from matplotlib import pyplot as plt\n",
        "def plotWordFrequency(df):\n",
        "    words = [line.split() for text in df.Text for line in text.split(\"\\n\") ]\n",
        "    words = reduce(lambda x,y: x+y, words)\n",
        "    data = sorted([(w, words.count(w)) for w in set(words)], key = lambda x:x[1], reverse=True)[:40] \n",
        "    most_words = [x[0] for x in data]\n",
        "    times_used = [int(x[1]) for x in data]\n",
        "    plt.figure(figsize=(20,10))\n",
        "    plt.bar(x=sorted(most_words), height=times_used, color = 'grey', edgecolor = 'black',  width=.5)\n",
        "    plt.xticks(rotation=45, fontsize=18)\n",
        "    plt.yticks(rotation=0, fontsize=18)\n",
        "    plt.xlabel('Most Common Words:', fontsize=18)\n",
        "    plt.ylabel('Number of Occurences:', fontsize=18)\n",
        "    plt.show()\n",
        "\n",
        "plotWordFrequency(df)"
      ],
      "execution_count": null,
      "outputs": [
        {
          "data": {
            "image/png": "[encoded data removed]",
            "text/plain": [
              "<Figure size 1440x720 with 1 Axes>"
            ]
          },
          "metadata": {},
          "output_type": "display_data"
        }
      ]
    },
    {
      "cell_type": "markdown",
      "metadata": {
        "id": "CImegTNMrxtf"
      },
      "source": [
        "# Character-level text generation"
      ]
    },
    {
      "cell_type": "markdown",
      "metadata": {
        "id": "b8wNgy1WM8Ln"
      },
      "source": [
        "We lower the text as character-level text generation works better w/o capital letters. Without lowering, the model would have double the classes as output and this may result in more memory usage and maybe also misleading predictions.\n",
        "\n",
        "We make a copy of the dataset before preprocessing, since we are going to use the same dataset later for text generation using seq2seq."
      ]
    },
    {
      "cell_type": "markdown",
      "metadata": {
        "id": "8eFEP9QClkAn"
      },
      "source": [
        "##Preprocessing"
      ]
    },
    {
      "cell_type": "code",
      "metadata": {
        "colab": {
          "base_uri": "https://localhost:8080/"
        },
        "id": "Q6U2L0eb-lkz",
        "outputId": "147d16b9-4ebe-4a05-da81-f03a07bf27e0"
      },
      "source": [
        "PREPROCESSING_PIPELINE = [lower]\n",
        "df1 = df.copy()\n",
        "df1['Text'] = df1['Text'].apply(lambda x: preprocessing(x))\n",
        "df1['Text'][0]"
      ],
      "execution_count": null,
      "outputs": [
        {
          "output_type": "execute_result",
          "data": {
            "text/plain": [
              "'  nel mezzo del cammin di nostra vita\\n  mi ritrovai per una selva oscura,\\n  ché la diritta via era smarrita.\\n  ahi quanto a dir qual era è cosa dura\\n  esta selva selvaggia e aspra e forte\\n  che nel pensier rinova la paura!\\n  tant’ è amara che poco è più morte;\\n  ma per trattar del ben ch’i’ vi trovai,\\n  dirò de l’altre cose ch’i’ v’ho scorte.\\n  io non so ben ridir com’ i’ v’intrai,\\n  tant’ era pien di sonno a quel punto\\n  che la verace via abbandonai.\\n  ma poi ch’i’ fui al piè d’un colle giunto,\\n  là dove terminava quella valle\\n  che m’avea di paura il cor compunto,\\n  guardai in alto e vidi le sue spalle\\n  vestite già de’ raggi del pianeta\\n  che mena dritto altrui per ogne calle.\\n  allor fu la paura un poco queta,\\n  che nel lago del cor m’era durata\\n  la notte ch’i’ passai con tanta pieta.\\n  e come quei che con lena affannata,\\n  uscito fuor del pelago a la riva,\\n  si volge a l’acqua perigliosa e guata,\\n  così l’animo mio, ch’ancor fuggiva,\\n  si volse a retro a rimirar lo passo\\n  che non lasciò già mai persona viva.\\n  poi ch’èi posato un poco il corpo lasso,\\n  ripresi via per la piaggia diserta,\\n  sì che ’l piè fermo sempre era ’l più basso.\\n  ed ecco, quasi al cominciar de l’erta,\\n  una lonza leggera e presta molto,\\n  che di pel macolato era coverta;\\n  e non mi si partia dinanzi al volto,\\n  anzi ’mpediva tanto il mio cammino,\\n  ch’i’ fui per ritornar più volte vòlto.\\n  temp’ era dal principio del mattino,\\n  e ’l sol montava ’n sù con quelle stelle\\n  ch’eran con lui quando l’amor divino\\n  mosse di prima quelle cose belle;\\n  sì ch’a bene sperar m’era cagione\\n  di quella fiera a la gaetta pelle\\n  l’ora del tempo e la dolce stagione;\\n  ma non sì che paura non mi desse\\n  la vista che m’apparve d’un leone.\\n  questi parea che contra me venisse\\n  con la test’ alta e con rabbiosa fame,\\n  sì che parea che l’aere ne tremesse.\\n  ed una lupa, che di tutte brame\\n  sembiava carca ne la sua magrezza,\\n  e molte genti fé già viver grame,\\n  questa mi porse tanto di gravezza\\n  con la paura ch’uscia di sua vista,\\n  ch’io perdei la speranza de l’altezza.\\n  e qual è quei che volontieri acquista,\\n  e giugne ’l tempo che perder lo face,\\n  che ’n tutti suoi pensier piange e s’attrista;\\n  tal mi fece la bestia sanza pace,\\n  che, venendomi ’ncontro, a poco a poco\\n  mi ripigneva là dove ’l sol tace.\\n  mentre ch’i’ rovinava in basso loco,\\n  dinanzi a li occhi mi si fu offerto\\n  chi per lungo silenzio parea fioco.\\n  quando vidi costui nel gran diserto,\\n  «miserere di me», gridai a lui,\\n  «qual che tu sii, od ombra od omo certo!».\\n  rispuosemi: «non omo, omo già fui,\\n  e li parenti miei furon lombardi,\\n  mantoani per patrïa ambedui.\\n  nacqui sub iulio, ancor che fosse tardi,\\n  e vissi a roma sotto ’l buono augusto\\n  nel tempo de li dèi falsi e bugiardi.\\n  poeta fui, e cantai di quel giusto\\n  figliuol d’anchise che venne di troia,\\n  poi che ’l superbo ilïón fu combusto.\\n  ma tu perché ritorni a tanta noia?\\n  perché non sali il dilettoso monte\\n  ch’è principio e cagion di tutta gioia?».\\n  «or se’ tu quel virgilio e quella fonte\\n  che spandi di parlar sì largo fiume?»,\\n  rispuos’ io lui con vergognosa fronte.\\n  «o de li altri poeti onore e lume,\\n  vagliami ’l lungo studio e ’l grande amore\\n  che m’ha fatto cercar lo tuo volume.\\n  tu se’ lo mio maestro e ’l mio autore,\\n  tu se’ solo colui da cu’ io tolsi\\n  lo bello stilo che m’ha fatto onore.\\n  vedi la bestia per cu’ io mi volsi;\\n  aiutami da lei, famoso saggio,\\n  ch’ella mi fa tremar le vene e i polsi».\\n  «a te convien tenere altro vïaggio»,\\n  rispuose, poi che lagrimar mi vide,\\n  «se vuo’ campar d’esto loco selvaggio;\\n  ché questa bestia, per la qual tu gride,\\n  non lascia altrui passar per la sua via,\\n  ma tanto lo ’mpedisce che l’uccide;\\n  e ha natura sì malvagia e ria,\\n  che mai non empie la bramosa voglia,\\n  e dopo ’l pasto ha più fame che pria.\\n  molti son li animali a cui s’ammoglia,\\n  e più saranno ancora, infin che ’l veltro\\n  verrà, che la farà morir con doglia.\\n  questi non ciberà terra né peltro,\\n  ma sapïenza, amore e virtute,\\n  e sua nazion sarà tra feltro e feltro.\\n  di quella umile italia fia salute\\n  per cui morì la vergine cammilla,\\n  eurialo e turno e niso di ferute.\\n  questi la caccerà per ogne villa,\\n  fin che l’avrà rimessa ne lo ’nferno,\\n  là onde ’nvidia prima dipartilla.\\n  ond’ io per lo tuo me’ penso e discerno\\n  che tu mi segui, e io sarò tua guida,\\n  e trarrotti di qui per loco etterno;\\n  ove udirai le disperate strida,\\n  vedrai li antichi spiriti dolenti,\\n  ch’a la seconda morte ciascun grida;\\n  e vederai color che son contenti\\n  nel foco, perché speran di venire\\n  quando che sia a le beate genti.\\n  a le quai poi se tu vorrai salire,\\n  anima fia a ciò più di me degna:\\n  con lei ti lascerò nel mio partire;\\n  ché quello imperador che là sù regna,\\n  perch’ i’ fu’ ribellante a la sua legge,\\n  non vuol che ’n sua città per me si vegna.\\n  in tutte parti impera e quivi regge;\\n  quivi è la sua città e l’alto seggio:\\n  oh felice colui cu’ ivi elegge!».\\n  e io a lui: «poeta, io ti richeggio\\n  per quello dio che tu non conoscesti,\\n  acciò ch’io fugga questo male e peggio,\\n  che tu mi meni là dov’ or dicesti,\\n  sì ch’io veggia la porta di san pietro\\n  e color cui tu fai cotanto mesti».\\n  allor si mosse, e io li tenni dietro.\\n'"
            ]
          },
          "metadata": {},
          "execution_count": 125
        }
      ]
    },
    {
      "cell_type": "markdown",
      "metadata": {
        "id": "RI5nzsjtNThT"
      },
      "source": [
        "First, we flatten the text corpus"
      ]
    },
    {
      "cell_type": "code",
      "metadata": {
        "id": "ZUan-b40QtSW"
      },
      "source": [
        "corpus = [text for text in df1.Text]\n",
        "corpus = reduce(lambda x,y: x+y, corpus)"
      ],
      "execution_count": null,
      "outputs": []
    },
    {
      "cell_type": "markdown",
      "metadata": {
        "id": "ghWXWjj3NXgC"
      },
      "source": [
        "Then, we create the character listing along with the relative dictioneries that map each character to an integer and viceversa."
      ]
    },
    {
      "cell_type": "code",
      "metadata": {
        "id": "1btv4bQMKfmD"
      },
      "source": [
        "def create_idx(df):\n",
        "  unique_chars = set()\n",
        "  for text in df.Text:\n",
        "    unique_chars = list(set(unique_chars) | set(text))\n",
        "  unique_chars.sort()\n",
        "  char2idx = {char[1]: char[0] for char in enumerate(unique_chars)}\n",
        "  idx2char = {v: k for k, v in char2idx.items()}\n",
        "  return unique_chars, char2idx, idx2char\n",
        "\n",
        "char_listing, char2idx, idx2char = create_idx(df1)"
      ],
      "execution_count": null,
      "outputs": []
    },
    {
      "cell_type": "code",
      "metadata": {
        "colab": {
          "base_uri": "https://localhost:8080/"
        },
        "id": "k7kgwvTbkjxb",
        "outputId": "d86709a3-6994-4e8d-f004-ed5f0c8855c5"
      },
      "source": [
        "print(char2idx)"
      ],
      "execution_count": null,
      "outputs": [
        {
          "output_type": "stream",
          "name": "stdout",
          "text": [
            "{'\\n': 0, ' ': 1, '!': 2, '\"': 3, '(': 4, ')': 5, ',': 6, '-': 7, '.': 8, ':': 9, ';': 10, '?': 11, 'a': 12, 'b': 13, 'c': 14, 'd': 15, 'e': 16, 'f': 17, 'g': 18, 'h': 19, 'i': 20, 'j': 21, 'l': 22, 'm': 23, 'n': 24, 'o': 25, 'p': 26, 'q': 27, 'r': 28, 's': 29, 't': 30, 'u': 31, 'v': 32, 'x': 33, 'y': 34, 'z': 35, '«': 36, '»': 37, 'à': 38, 'ä': 39, 'è': 40, 'é': 41, 'ë': 42, 'ì': 43, 'ï': 44, 'ò': 45, 'ó': 46, 'ö': 47, 'ù': 48, 'ü': 49, '—': 50, '‘': 51, '’': 52, '“': 53, '”': 54}\n"
          ]
        }
      ]
    },
    {
      "cell_type": "markdown",
      "metadata": {
        "id": "w8AsLAMhNkwE"
      },
      "source": [
        "We transform the corpus text into an encoded corpus where each integer correspond to a character using the previously defined dictionary."
      ]
    },
    {
      "cell_type": "code",
      "metadata": {
        "id": "mjkQeyx-URr9"
      },
      "source": [
        "def numerical_encoding(df, char2idx):\n",
        "    \"\"\" Text to list of chars, to np.array of numerical idx \"\"\"\n",
        "    chars_list = [char for text in df.Text for char in text]\n",
        "    chars_list = [char2idx[char] for char in chars_list]\n",
        "    chars_list = np.array(chars_list)\n",
        "    return chars_list\n",
        "\n",
        "def decode_sequence(seq):\n",
        "  decoded = [idx2char[i] for i in seq]\n",
        "  return ''.join(decoded)\n",
        "\n",
        "encoded_corpus = numerical_encoding(df1, char2idx)"
      ],
      "execution_count": null,
      "outputs": []
    },
    {
      "cell_type": "markdown",
      "metadata": {
        "id": "xLy1AIHplqUb"
      },
      "source": [
        "##Input preparation"
      ]
    },
    {
      "cell_type": "markdown",
      "metadata": {
        "id": "fPCngnocOnmm"
      },
      "source": [
        "In the following cell:\n",
        "\n",
        "\n",
        "*   `from_tensor_slices`: creates a Dataset whose elements are slices of the given tensors. The given tensors are sliced along their first dimension. This operation preserves the structure of the input tensors, removing the first dimension of each tensor and using it as the dataset dimension. \n",
        "\n",
        "  Then apply `batch` since we have a sequence of integers representing characters which is much longer so it is much helpful if we divide this into many sequences of `SEQUENCE_LENGTH+1`.\n",
        "  \n",
        "  We use `drop_remainder=True` whether the last batch should be dropped in the case it has fewer than batch_size elements;\n",
        "\n",
        "*   Creating batches pipeline:\n",
        "  \n",
        "  1. `map` for each sequence created before with `from_tensor_slices` applies the function `split_input_target` which returns the input and output sequences for the model. i.e. We have a sequence `Nel mezzo del`: respectively the input text will be `Nel mezzo de` and the output will be `el mezzo del`\n",
        "  2. `shuffle` namely shuffles the sequences\n",
        "  3. `batch` namely creates batches of length `BATCH_SIZE` with sequences shuffled.\n",
        "\n",
        "\n",
        "\n",
        "\n",
        "\n"
      ]
    },
    {
      "cell_type": "code",
      "metadata": {
        "colab": {
          "base_uri": "https://localhost:8080/"
        },
        "id": "LShR3sAWGXq0",
        "outputId": "580481ee-8276-43e8-ed9e-0e1e9768aff2"
      },
      "source": [
        "SEQ_LENGTH = 100\n",
        "BATCH_SIZE = 128\n",
        "BUFFER_SIZE = 10000\n",
        "example_per_epoch = len(corpus)//SEQ_LENGTH\n",
        "\n",
        "def split_input_target(chunk):\n",
        "    input_text = chunk[:-1]\n",
        "    target_text = chunk[1:]\n",
        "    return input_text, target_text\n",
        "\n",
        "sequences = tf.data.Dataset.from_tensor_slices(encoded_corpus).batch(batch_size=SEQ_LENGTH+1, drop_remainder=True)\n",
        "\n",
        "dataset = sequences.map(split_input_target)\n",
        "\n",
        "for input_ex, target_ex in dataset.take(2):\n",
        "  print('Input data: ', repr(decode_sequence(input_ex.numpy())))\n",
        "  print('Output data: ', repr(decode_sequence(target_ex.numpy())))\n",
        "  print(\"\\n\")\n",
        "\n",
        "dataset = dataset.shuffle(BUFFER_SIZE).batch(BATCH_SIZE, drop_remainder=True)"
      ],
      "execution_count": null,
      "outputs": [
        {
          "output_type": "stream",
          "name": "stdout",
          "text": [
            "Input data:  '  nel mezzo del cammin di nostra vita\\n  mi ritrovai per una selva oscura,\\n  ché la diritta via era s'\n",
            "Output data:  ' nel mezzo del cammin di nostra vita\\n  mi ritrovai per una selva oscura,\\n  ché la diritta via era sm'\n",
            "\n",
            "\n",
            "Input data:  'arrita.\\n  ahi quanto a dir qual era è cosa dura\\n  esta selva selvaggia e aspra e forte\\n  che nel pen'\n",
            "Output data:  'rrita.\\n  ahi quanto a dir qual era è cosa dura\\n  esta selva selvaggia e aspra e forte\\n  che nel pens'\n",
            "\n",
            "\n"
          ]
        }
      ]
    },
    {
      "cell_type": "markdown",
      "metadata": {
        "id": "mK5q23cMlu_-"
      },
      "source": [
        "##Building the model"
      ]
    },
    {
      "cell_type": "code",
      "metadata": {
        "colab": {
          "base_uri": "https://localhost:8080/"
        },
        "id": "kte9niUhJHs-",
        "outputId": "a3b8103e-2aec-4677-84a0-48a5bd3392e8"
      },
      "source": [
        "VOCAB_SIZE = len(char_listing)# The embedding dimension\n",
        "EMBEDDING_DIM = 256 \n",
        "UNITS = 512\n",
        "\n",
        "def build_model(vocab_size, embedding_dim, units, batch_size):\n",
        "    model = tf.keras.Sequential([\n",
        "        tf.keras.layers.Embedding(input_dim=vocab_size, output_dim = embedding_dim, batch_input_shape = [batch_size, None]),\n",
        "        tf.keras.layers.GRU(units * 2, return_sequences= True, stateful=True, recurrent_initializer='glorot_uniform'),\n",
        "        tf.keras.layers.GRU(units, return_sequences= True, stateful=True, recurrent_initializer='glorot_uniform'),\n",
        "        tf.keras.layers.Dense(vocab_size)\n",
        "    ])\n",
        "    return model\n",
        "\n",
        "model = build_model(vocab_size = VOCAB_SIZE,\n",
        "                    embedding_dim = EMBEDDING_DIM,\n",
        "                    units = UNITS,\n",
        "                    batch_size = BATCH_SIZE)\n",
        "\n",
        "model.summary()"
      ],
      "execution_count": null,
      "outputs": [
        {
          "output_type": "stream",
          "name": "stdout",
          "text": [
            "Model: \"sequential\"\n",
            "_________________________________________________________________\n",
            " Layer (type)                Output Shape              Param #   \n",
            "=================================================================\n",
            " embedding_2 (Embedding)     (128, None, 256)          14080     \n",
            "                                                                 \n",
            " gru (GRU)                   (128, None, 1024)         3938304   \n",
            "                                                                 \n",
            " gru_1 (GRU)                 (128, None, 512)          2362368   \n",
            "                                                                 \n",
            " dense_2 (Dense)             (128, None, 55)           28215     \n",
            "                                                                 \n",
            "=================================================================\n",
            "Total params: 6,342,967\n",
            "Trainable params: 6,342,967\n",
            "Non-trainable params: 0\n",
            "_________________________________________________________________\n"
          ]
        }
      ]
    },
    {
      "cell_type": "code",
      "metadata": {
        "colab": {
          "base_uri": "https://localhost:8080/"
        },
        "id": "D0tS6HGSKPex",
        "outputId": "0e44be51-3b92-4a40-bd46-a28df8b5ab56"
      },
      "source": [
        "def loss(labels, logits):\n",
        "    return tf.keras.losses.sparse_categorical_crossentropy(labels, logits, from_logits=True)\n",
        "\n",
        "model.compile(optimizer='Adam', loss=loss)\n",
        "# Directory where the checkpoints will be saved\n",
        "\n",
        "checkpoint_dir = './training_checkpoints'# Name of the checkpoint files\n",
        "checkpoint_prefix = os.path.join(checkpoint_dir, \"ckpt_{epoch}\")\n",
        "checkpoint_callback=tf.keras.callbacks.ModelCheckpoint(filepath=checkpoint_prefix, save_weights_only=True)\n",
        "\n",
        "early_stop=tf.keras.callbacks.EarlyStopping(monitor='loss', patience=5, restore_best_weights=True)\n",
        "\n",
        "EPOCHS = 50\n",
        "history = model.fit(dataset, epochs=EPOCHS, callbacks=[checkpoint_callback, early_stop])"
      ],
      "execution_count": null,
      "outputs": [
        {
          "output_type": "stream",
          "name": "stdout",
          "text": [
            "Epoch 1/50\n",
            "42/42 [==============================] - 11s 206ms/step - loss: 0.2840\n",
            "Epoch 2/50\n",
            "42/42 [==============================] - 9s 203ms/step - loss: 0.2654\n",
            "Epoch 3/50\n",
            "42/42 [==============================] - 9s 203ms/step - loss: 0.2615\n",
            "Epoch 4/50\n",
            "42/42 [==============================] - 9s 204ms/step - loss: 0.2595\n",
            "Epoch 5/50\n",
            "42/42 [==============================] - 9s 205ms/step - loss: 0.2592\n",
            "Epoch 6/50\n",
            "42/42 [==============================] - 9s 204ms/step - loss: 0.2581\n",
            "Epoch 7/50\n",
            "42/42 [==============================] - 9s 204ms/step - loss: 0.2548\n",
            "Epoch 8/50\n",
            "42/42 [==============================] - 9s 203ms/step - loss: 0.2531\n",
            "Epoch 9/50\n",
            "42/42 [==============================] - 9s 202ms/step - loss: 0.2535\n",
            "Epoch 10/50\n",
            "42/42 [==============================] - 9s 204ms/step - loss: 0.2494\n",
            "Epoch 11/50\n",
            "42/42 [==============================] - 9s 202ms/step - loss: 0.2489\n",
            "Epoch 12/50\n",
            "42/42 [==============================] - 9s 203ms/step - loss: 0.2474\n",
            "Epoch 13/50\n",
            "42/42 [==============================] - 9s 205ms/step - loss: 0.2477\n",
            "Epoch 14/50\n",
            "42/42 [==============================] - 10s 214ms/step - loss: 0.2473\n",
            "Epoch 15/50\n",
            "42/42 [==============================] - 10s 216ms/step - loss: 0.2443\n",
            "Epoch 16/50\n",
            "42/42 [==============================] - 10s 216ms/step - loss: 0.2445\n",
            "Epoch 17/50\n",
            "42/42 [==============================] - 10s 216ms/step - loss: 0.2416\n",
            "Epoch 18/50\n",
            "42/42 [==============================] - 10s 214ms/step - loss: 0.2390\n",
            "Epoch 19/50\n",
            "42/42 [==============================] - 10s 215ms/step - loss: 0.2380\n",
            "Epoch 20/50\n",
            "42/42 [==============================] - 10s 215ms/step - loss: 0.2369\n",
            "Epoch 21/50\n",
            "42/42 [==============================] - 9s 214ms/step - loss: 0.2349\n",
            "Epoch 22/50\n",
            "42/42 [==============================] - 10s 216ms/step - loss: 0.2350\n",
            "Epoch 23/50\n",
            "42/42 [==============================] - 10s 215ms/step - loss: 0.2344\n",
            "Epoch 24/50\n",
            "42/42 [==============================] - 9s 210ms/step - loss: 0.2351\n",
            "Epoch 25/50\n",
            "42/42 [==============================] - 9s 206ms/step - loss: 0.2311\n",
            "Epoch 26/50\n",
            "42/42 [==============================] - 9s 203ms/step - loss: 0.2307\n",
            "Epoch 27/50\n",
            "42/42 [==============================] - 9s 204ms/step - loss: 0.2286\n",
            "Epoch 28/50\n",
            "42/42 [==============================] - 9s 205ms/step - loss: 0.2296\n",
            "Epoch 29/50\n",
            "42/42 [==============================] - 9s 205ms/step - loss: 0.2302\n",
            "Epoch 30/50\n",
            "42/42 [==============================] - 9s 204ms/step - loss: 0.2278\n",
            "Epoch 31/50\n",
            "42/42 [==============================] - 9s 206ms/step - loss: 0.2249\n",
            "Epoch 32/50\n",
            "42/42 [==============================] - 9s 205ms/step - loss: 0.2253\n",
            "Epoch 33/50\n",
            "42/42 [==============================] - 9s 206ms/step - loss: 0.2245\n",
            "Epoch 34/50\n",
            "42/42 [==============================] - 9s 205ms/step - loss: 0.2244\n",
            "Epoch 35/50\n",
            "42/42 [==============================] - 9s 207ms/step - loss: 0.2219\n",
            "Epoch 36/50\n",
            "42/42 [==============================] - 9s 209ms/step - loss: 0.2236\n",
            "Epoch 37/50\n",
            "42/42 [==============================] - 9s 206ms/step - loss: 0.2212\n",
            "Epoch 38/50\n",
            "42/42 [==============================] - 9s 206ms/step - loss: 0.2216\n",
            "Epoch 39/50\n",
            "42/42 [==============================] - 9s 205ms/step - loss: 0.2206\n",
            "Epoch 40/50\n",
            "42/42 [==============================] - 9s 205ms/step - loss: 0.2190\n",
            "Epoch 41/50\n",
            "42/42 [==============================] - 9s 206ms/step - loss: 0.2185\n",
            "Epoch 42/50\n",
            "42/42 [==============================] - 9s 207ms/step - loss: 0.2191\n",
            "Epoch 43/50\n",
            "42/42 [==============================] - 9s 208ms/step - loss: 0.2199\n",
            "Epoch 44/50\n",
            "42/42 [==============================] - 9s 207ms/step - loss: 0.2179\n",
            "Epoch 45/50\n",
            "42/42 [==============================] - 9s 207ms/step - loss: 0.2184\n",
            "Epoch 46/50\n",
            "42/42 [==============================] - 9s 207ms/step - loss: 0.2176\n",
            "Epoch 47/50\n",
            "42/42 [==============================] - 9s 201ms/step - loss: 0.2175\n",
            "Epoch 48/50\n",
            "42/42 [==============================] - 9s 201ms/step - loss: 0.2168\n",
            "Epoch 49/50\n",
            "42/42 [==============================] - 9s 202ms/step - loss: 0.2166\n",
            "Epoch 50/50\n",
            "42/42 [==============================] - 9s 201ms/step - loss: 0.2143\n"
          ]
        }
      ]
    },
    {
      "cell_type": "markdown",
      "metadata": {
        "id": "ZlmaVDResQQD"
      },
      "source": [
        "##Temperature Char-level Sampling "
      ]
    },
    {
      "cell_type": "markdown",
      "metadata": {
        "id": "0xyJWJaPtq-d"
      },
      "source": [
        "We first create a new inference model with `batch_size = 1`, load the latest checkpoint weights and define the input shape.\n",
        "\n",
        "The function `char_level_temperature_sampling` takes in input \n",
        "* the model (`model`), \n",
        "* the start string to define the context (`start_string`), \n",
        "* the number of characters to generate (`chars_to_generate`) and \n",
        "* the `temperature` which defines how distant the predictions are far from the dataset (the smaller, the more similar to the input dataset)\n",
        "\n",
        "After encoding the input_string which defines the context, we reset the states of the model to make independent call from the fit method, and then start to generate the next characters with iterative calls to the model.\n",
        "\n",
        "Only in the first call we pass the entire input string since the model is stateful and we do not need to pass the whole sequence on recurrent calls. So as, when recurrently calling the model, we simply pass the last character ID."
      ]
    },
    {
      "cell_type": "code",
      "metadata": {
        "id": "RVvT-WlhKlR9"
      },
      "source": [
        "tf.train.latest_checkpoint(checkpoint_dir)\n",
        "model = build_model(VOCAB_SIZE, EMBEDDING_DIM, UNITS, batch_size=1)\n",
        "model.load_weights(tf.train.latest_checkpoint(checkpoint_dir)) \n",
        "model.build(tf.TensorShape([1, None]))"
      ],
      "execution_count": null,
      "outputs": []
    },
    {
      "cell_type": "code",
      "metadata": {
        "colab": {
          "base_uri": "https://localhost:8080/"
        },
        "id": "SrreJ0XCKup4",
        "outputId": "b1acdece-d308-47ee-b666-34471e5c5610"
      },
      "source": [
        "def char_level_temperature_sampling(model, start_string, chars_to_generate, temperature):\n",
        "    input_eval = [char2idx[s] for s in start_string] #Convert input_string to correspondent encoding\n",
        "    input_eval = tf.expand_dims(input_eval, axis=0) #reshape according to model input shape (1, None)\n",
        "    text_generated = [] #string for storing results \n",
        "    model.reset_states() #reset states of the model to make calls to the model independent from previous calls (fit, predict, evaluate)\n",
        "    for i in range(chars_to_generate):\n",
        "        predictions = model(input_eval) #predict the next character\n",
        "        predictions = tf.squeeze(predictions, 0) #squeeze results\n",
        "        predictions = predictions / temperature #apply temperature\n",
        "        \n",
        "        #Draws num_samples from a categorical distribution of logits\n",
        "        #This is applied to the last timestep (-1) to get the next char to generate\n",
        "        predicted_id = tf.random.categorical(predictions, num_samples=1)[-1,0].numpy() \n",
        "        \n",
        "        # Pass the predicted character as the next input to the \n",
        "        # model along with the previous hidden state\n",
        "        input_eval = tf.expand_dims([predicted_id], 0)   \n",
        "        text_generated.append(idx2char[predicted_id])\n",
        "        \n",
        "    return ''.join(text_generated)\n",
        "\n",
        "start_string = u\"nel mezzo del cammin di nostra vita mi ritrovai\"\n",
        "char_level_generation = char_level_temperature_sampling(model, start_string=start_string, \n",
        "                                                        chars_to_generate=500, temperature=0.5)\n",
        "print(start_string, char_level_generation)"
      ],
      "execution_count": null,
      "outputs": [
        {
          "output_type": "stream",
          "name": "stdout",
          "text": [
            "nel mezzo del cammin di nostra vita mi ritrovai \n",
            "  per me si va ne l’etterno pianto,\n",
            "  «guarda», mi disse, «le feroci stolta,\n",
            "  se non pianger sonaregiando noi la soggio non posso,\n",
            "  come mosser li astor celestïali;\n",
            "  ma vidi bene e l’uno e l’altro mosso.\n",
            "  sentendo fenne.\n",
            "  la prima vita del ciglio e la quinta\n",
            "  ti fa maravigliar, perché ne vedi\n",
            "  la regïon de li angeli neri\n",
            "  che vegnan d’esto fondo a dipartirco».\n",
            "  la luce in che rideva il mio tesoro\n",
            "  ch’io trovai lì, si fé prima corso,\n",
            "  per ch’io a lui: «se tu riduci a mente\n",
            "  qual fost\n"
          ]
        }
      ]
    },
    {
      "cell_type": "markdown",
      "metadata": {
        "id": "xQhKkbcwtMbI"
      },
      "source": [
        "# Seq2Seq text generation"
      ]
    },
    {
      "cell_type": "markdown",
      "metadata": {
        "id": "mwL816bb4hHS"
      },
      "source": [
        "In this section we will experiment other text generation techniques using a Seq2Seq model. We will use:\n",
        "\n",
        "* SpaCy for Italian word embeddings\n",
        "\n",
        "* SymSpellPy italian vocabulary to handle out-of-vocabulary words\n",
        "\n",
        "\n"
      ]
    },
    {
      "cell_type": "code",
      "metadata": {
        "id": "vKtKSanypZuP"
      },
      "source": [
        "%%capture\n",
        "!pip install spacy --upgrade\n",
        "!python -m spacy download it_core_news_lg\n",
        "import spacy\n",
        "nlp = spacy.load(\"it_core_news_lg\")"
      ],
      "execution_count": 5,
      "outputs": []
    },
    {
      "cell_type": "code",
      "metadata": {
        "colab": {
          "base_uri": "https://localhost:8080/"
        },
        "id": "cf2Pkftq5JBn",
        "outputId": "9ab654af-c069-49d8-a20f-65bccd0c251c"
      },
      "source": [
        "!pip install symspellpy\n",
        "from symspellpy import SymSpell, Verbosity\n",
        "\n",
        "sym_spell = SymSpell(max_dictionary_edit_distance=2, prefix_length=7)\n",
        "dictionary_path=path+\"it-100k.txt\"\n",
        "sym_spell.load_dictionary(dictionary_path, term_index=0, count_index=1)"
      ],
      "execution_count": 6,
      "outputs": [
        {
          "output_type": "stream",
          "name": "stdout",
          "text": [
            "Requirement already satisfied: symspellpy in ./anaconda3/lib/python3.9/site-packages (6.7.0)\r\n",
            "Requirement already satisfied: numpy>=1.13.1 in ./anaconda3/lib/python3.9/site-packages (from symspellpy) (1.20.3)\r\n"
          ]
        },
        {
          "output_type": "execute_result",
          "data": {
            "text/plain": [
              "True"
            ]
          },
          "metadata": {},
          "execution_count": 6
        }
      ]
    },
    {
      "cell_type": "markdown",
      "metadata": {
        "id": "ZCcQKbZFlB02"
      },
      "source": [
        "Adjust the newline token to get a better splitting on sequences"
      ]
    },
    {
      "cell_type": "code",
      "metadata": {
        "colab": {
          "base_uri": "https://localhost:8080/"
        },
        "id": "2OqBweO7lA46",
        "outputId": "c877f6fd-80fb-4c6e-c934-8797890479d3"
      },
      "source": [
        "PREPROCESSING_PIPELINE = [adjust_newline]\n",
        "df['Text'] = df['Text'].apply(lambda x: preprocessing(x))\n",
        "df['Text'][0]"
      ],
      "execution_count": 7,
      "outputs": [
        {
          "output_type": "execute_result",
          "data": {
            "text/plain": [
              "\"Nel mezzo del cammin di nostra vita \\nmi ritrovai per una selva oscura \\nchè la diritta via era smarrita \\nAhi quanto a dir qual era è cosa dura \\nesta selva selvaggia e aspra e forte \\nche nel pensier rinova la paura \\nTant' è amara che poco è più morte \\nma per trattar del ben ch'i' vi trovai \\ndirò de l'altre cose ch'i' v'ho scorte \\nIo non so ben ridir com' i' v'intrai \\ntant' era pien di sonno a quel punto \\nche la verace via abbandonai \\nMa poi ch'i' fui al piè d'un colle giunto \\nlà dove terminava quella valle \\nche m'avea di paura il cor compunto \\nguardai in alto e vidi le sue spalle \\nvestite già de' raggi del pianeta \\nche mena dritto altrui per ogne calle \\nAllor fu la paura un poco queta \\nche nel lago del cor m'era durata \\nla notte ch'i' passai con tanta pieta \\nE come quei che con lena affannata \\nuscito fuor del pelago a la riva \\nsi volge a l'acqua perigliosa e guata \\ncosì l'animo mio ch'ancor fuggiva \\nsi volse a retro a rimirar lo passo \\nche non lasciò già mai persona viva \\nPoi ch'èi posato un poco il corpo lasso \\nripresi via per la piaggia diserta \\nsì che 'l piè fermo sempre era 'l più basso \\nEd ecco quasi al cominciar de l'erta \\nuna lonza leggera e presta molto \\nche di pel macolato era coverta \\ne non mi si partia dinanzi al volto \\nanzi 'mpediva tanto il mio cammino \\nch'i' fui per ritornar più volte vòlto \\nTemp' era dal principio del mattino \\ne 'l sol montava 'n sù con quelle stelle \\nch'eran con lui quando l'amor divino \\nmosse di prima quelle cose belle \\nsì ch'a bene sperar m'era cagione \\ndi quella fiera a la gaetta pelle \\nl'ora del tempo e la dolce stagione \\nma non sì che paura non mi desse \\nla vista che m'apparve d'un leone \\nQuesti parea che contra me venisse \\ncon la test' alta e con rabbiosa fame \\nsì che parea che l'aere ne tremesse \\nEd una lupa che di tutte brame \\nsembiava carca ne la sua magrezza \\ne molte genti fè già viver grame \\nquesta mi porse tanto di gravezza \\ncon la paura ch'uscia di sua vista \\nch'io perdei la speranza de l'altezza \\nE qual è quei che volontieri acquista \\ne giugne 'l tempo che perder lo face \\nche 'n tutti suoi pensier piange e s'attrista \\ntal mi fece la bestia sanza pace \\nche venendomi 'ncontro a poco a poco \\nmi ripigneva là dove 'l sol tace \\nMentre ch'i' rovinava in basso loco \\ndinanzi a li occhi mi si fu offerto \\nchi per lungo silenzio parea fioco \\nQuando vidi costui nel gran diserto \\nMiserere di me gridai a lui \\nqual che tu sii od ombra od omo certo \\nRispuosemi Non omo omo già fui \\ne li parenti miei furon lombardi \\nmantoani per patria ambedui \\nNacqui sub Iulio ancor che fosse tardi \\ne vissi a Roma sotto 'l buono Augusto \\nnel tempo de li dèi falsi e bugiardi \\nPoeta fui e cantai di quel giusto \\nfigliuol d'Anchise che venne di Troia \\npoi che 'l superbo Iliòn fu combusto \\nMa tu perchè ritorni a tanta noia \\nperchè non sali il dilettoso monte \\nch'è principio e cagion di tutta gioia \\nOr se' tu quel Virgilio e quella fonte \\nche spandi di parlar sì largo fiume \\nrispuos' io lui con vergognosa fronte \\nO de li altri poeti onore e lume \\nvagliami 'l lungo studio e 'l grande amore \\nche m'ha fatto cercar lo tuo volume \\nTu se' lo mio maestro e 'l mio autore \\ntu se' solo colui da cu' io tolsi \\nlo bello stilo che m'ha fatto onore \\nVedi la bestia per cu' io mi volsi \\naiutami da lei famoso saggio \\nch'ella mi fa tremar le vene e i polsi \\nA te convien tenere altro viaggio \\nrispuose poi che lagrimar mi vide \\nse vuo' campar d'esto loco selvaggio \\nchè questa bestia per la qual tu gride \\nnon lascia altrui passar per la sua via \\nma tanto lo 'mpedisce che l'uccide \\ne ha natura sì malvagia e ria \\nche mai non empie la bramosa voglia \\ne dopo 'l pasto ha più fame che pria \\nMolti son li animali a cui s'ammoglia \\ne più saranno ancora infin che 'l veltro \\nverrà che la farà morir con doglia \\nQuesti non ciberà terra nè peltro \\nma sapienza amore e virtute \\ne sua nazion sarà tra feltro e feltro \\nDi quella umile Italia fia salute \\nper cui morì la vergine Cammilla \\nEurialo e Turno e Niso di ferute \\nQuesti la caccerà per ogne villa \\nfin che l'avrà rimessa ne lo 'nferno \\nlà onde 'nvidia prima dipartilla \\nOnd' io per lo tuo me' penso e discerno \\nche tu mi segui e io sarò tua guida \\ne trarrotti di qui per loco etterno \\nove udirai le disperate strida \\nvedrai li antichi spiriti dolenti \\nch'a la seconda morte ciascun grida \\ne vederai color che son contenti \\nnel foco perchè speran di venire \\nquando che sia a le beate genti \\nA le quai poi se tu vorrai salire \\nanima fia a ciò più di me degna \\ncon lei ti lascerò nel mio partire \\nchè quello imperador che là sù regna \\nperch' i' fu' ribellante a la sua legge \\nnon vuol che 'n sua città per me si vegna \\nIn tutte parti impera e quivi regge \\nquivi è la sua città e l'alto seggio \\noh felice colui cu' ivi elegge \\nE io a lui Poeta io ti richeggio \\nper quello Dio che tu non conoscesti \\nacciò ch'io fugga questo male e peggio \\nche tu mi meni là dov' or dicesti \\nsì ch'io veggia la porta di san Pietro \\ne color cui tu fai cotanto mesti \\nAllor si mosse e io li tenni dietro \\n\""
            ]
          },
          "metadata": {},
          "execution_count": 7
        }
      ]
    },
    {
      "cell_type": "code",
      "metadata": {
        "id": "60F-zaM3Mj2K"
      },
      "source": [
        "corpus = [text for text in df.Text]\n",
        "corpus = reduce(lambda x,y: x+y, corpus)\n",
        "tokens = nlp(corpus)\n",
        "sequences = [nlp(line) for text in df.Text for line in text.split(\" \\n\")]"
      ],
      "execution_count": 8,
      "outputs": []
    },
    {
      "cell_type": "markdown",
      "metadata": {
        "id": "zALkCSZ76wuy"
      },
      "source": [
        "##Word embeddings"
      ]
    },
    {
      "cell_type": "markdown",
      "metadata": {
        "id": "S62Rqy4S7HIB"
      },
      "source": [
        "The `spell_correction` function looks up for the most similar word using the symspellpy italian vocabulary with `max_edit_distance = 1`.\n",
        "\n",
        "This function will be called only if the strategy of the `compute_embeddings` function will be `similarity`. By doing so, when assigning word embeddings of OOV words, this function will try to spell correctly a word in order to assign the word embedding of the word spelled correctly."
      ]
    },
    {
      "cell_type": "code",
      "metadata": {
        "id": "V6gr9EQEiZQR"
      },
      "source": [
        "def spell_correction(text):\n",
        "    results = [t if (t.isnumeric() or  len(t)<=3)\n",
        "               else sym_spell.lookup(t, Verbosity.TOP, max_edit_distance=1, \n",
        "                                     include_unknown=True)[0].term \n",
        "               for t in text.split()]\n",
        "    return ' '.join(results)"
      ],
      "execution_count": 9,
      "outputs": []
    },
    {
      "cell_type": "markdown",
      "metadata": {
        "id": "eASVPeHa8ep8"
      },
      "source": [
        "The `compute_embeddings` function assigns SpaCy word embeddings to in-vocabulary words and handle OOV terms in different ways:\n",
        "\n",
        "* `strategy='similarity'` and `random_oov=False`: will spell correct the oov term and try to assign the embedding of the similar word\n",
        "\n",
        "* `strategy='similarity'` and `random_oov=False`: will assign to the oov term a random vector\n",
        "\n",
        "* `strategy='random'`: will assign to all the word embeddings a random vector, including in-vocabulary terms"
      ]
    },
    {
      "cell_type": "code",
      "metadata": {
        "colab": {
          "base_uri": "https://localhost:8080/"
        },
        "id": "RKvR7R4Y5zqV",
        "outputId": "3386cc56-431e-4e93-a89d-5fe963d8ba50"
      },
      "source": [
        "EMBEDDING_DIM = 300\n",
        "\n",
        "def compute_embeddings(tokens, nlp, EMBEDDING_DIM, strategy=\"similarity\", random_oov=False):\n",
        "    print(f\"There are {len(list(set([word.text for word in tokens])))} unique tokens\")\n",
        "    embeddings = {} #Initialize embedding dict\n",
        "    oov_words = {} #Initialize oov dict\n",
        "    cc = 0 #counter for oov terms\n",
        "\n",
        "    #Initializing special words embeddings\n",
        "    embeddings[\"<PAD>\"] = np.zeros((EMBEDDING_DIM,))\n",
        "    embeddings[\"<SOS>\"] = np.random.uniform(-1, 1, (EMBEDDING_DIM,))\n",
        "    embeddings[\"<EOS>\"] = np.random.uniform(-1, 1, (EMBEDDING_DIM,))\n",
        "    embeddings[\"\\n \"] = np.random.uniform(-1, 1, (EMBEDDING_DIM,))\n",
        "    \n",
        "    for word in tokens: #for each word in the dataset\n",
        "      if word.text not in embeddings: #if a unique word has not been processed yet\n",
        "        if strategy == \"similarity\":\n",
        "          if word.has_vector: #if the word has a corresponding word vector in SpaCy\n",
        "            embeddings[word.text] = word.vector #Add the word vector to the vocabulary\n",
        "          elif random_oov: #If random strategy for oov terms assign a random vector\n",
        "            cc = cc+1\n",
        "            embeddings[word.text] = np.random.uniform(-1, 1, (EMBEDDING_DIM,))\n",
        "          else:\n",
        "            cc = cc+1\n",
        "            similar_word = spell_correction(word.text) #Find a similar word\n",
        "            similar_token = nlp(similar_word) #Get the corresponding token in SpaCy\n",
        "            oov_words[word.text] = similar_word #Fill the oov dict with [misspelled, correclty spelled] word\n",
        "            #If the new word has a vector we assign the vector to the original word, otherwise a random vector\n",
        "            if similar_token.has_vector and similar_word != word.text: \n",
        "                embeddings[word.text] = similar_token.vector\n",
        "            else:\n",
        "                embeddings[word.text] = np.random.uniform(-1, 1, (EMBEDDING_DIM,))\n",
        "        #If random strategy assign to all words a random vector\n",
        "        if strategy == \"random\":\n",
        "          embeddings[word.text] = np.random.uniform(-1, 1, (EMBEDDING_DIM,))\n",
        "\n",
        "\n",
        "    print(f\"There are {cc} words for which we created an embedding\")\n",
        "    #Compute idx2word and word2idx dictionaries\n",
        "    idx2word = dict([(idx,v) for idx,v in enumerate(list(embeddings.keys()))])\n",
        "    word2idx = {v: k for k, v in idx2word.items()}\n",
        "\n",
        "    #Initialize  the embedding matrix as a numpy array and fill it with all the vectors throught the embeddings dict\n",
        "    embedding_matrix = np.zeros((len(idx2word), EMBEDDING_DIM))\n",
        "    for word, i in word2idx.items():\n",
        "        embedding_vector = embeddings[word]\n",
        "        #Words not found in embedding index will be all-zeros.\n",
        "        if embedding_vector is not None:\n",
        "            embedding_matrix[i] = embedding_vector\n",
        "    return embedding_matrix, oov_words, idx2word, word2idx\n",
        "\n",
        "\n",
        "embedding_matrix, oov_dict, idx2word, word2idx = compute_embeddings(tokens, nlp, EMBEDDING_DIM)"
      ],
      "execution_count": 10,
      "outputs": [
        {
          "output_type": "stream",
          "name": "stdout",
          "text": [
            "There are 13529 unique tokens\n",
            "There are 4059 words for which we created an embedding\n"
          ]
        }
      ]
    },
    {
      "cell_type": "markdown",
      "metadata": {
        "id": "uwsRbmMAOtfA"
      },
      "source": [
        "Here, we check how some OOV are handled, with which term and vector they are substituted."
      ]
    },
    {
      "cell_type": "code",
      "metadata": {
        "colab": {
          "base_uri": "https://localhost:8080/"
        },
        "id": "ocZdG6JT-hyX",
        "outputId": "0fa3e7c7-51b7-4200-f99e-bb3af17bdc48"
      },
      "source": [
        "print(\"Some out-of-vocabulary words with their respective word substituted:\")\n",
        "for k, v in list(oov_dict.items())[2:10]:\n",
        "    oovtest = nlp(v)\n",
        "    print(f\"OOV word: {k}, \\t vector used: {v} \\t {oovtest.vector[:5]}\")\n",
        "print(\"\\n\")\n",
        "\n",
        "zero_vectors = np.where(np.count_nonzero(embedding_matrix, axis=1)==0)[0]\n",
        "print(f\"There are {zero_vectors.shape[0]} words with zero vectors. Here we show some:\")\n",
        "print(np.array([idx2word[i] for i in zero_vectors])[:50])"
      ],
      "execution_count": 11,
      "outputs": [
        {
          "output_type": "stream",
          "name": "stdout",
          "text": [
            "Some out-of-vocabulary words with their respective word substituted:\n",
            "OOV word: ridir, \t vector used: ridir \t [0. 0. 0. 0. 0.]\n",
            "OOV word: intrai, \t vector used: entrai \t [ 0.83551  0.2146  -0.78065 -1.2835  -1.451  ]\n",
            "OOV word: èi, \t vector used: èi \t [0. 0. 0. 0. 0.]\n",
            "OOV word: macolato, \t vector used: maculato \t [-0.38396  0.85145 -0.33377 -1.6229  -1.5451 ]\n",
            "OOV word: mpediva, \t vector used: impediva \t [ 0.76814  1.9516  -1.61    -0.35673 -0.10835]\n",
            "OOV word: gaetta, \t vector used: gaeta \t [ 0.88015  -1.9323    1.1862    0.2662   -0.023887]\n",
            "OOV word: tremesse, \t vector used: premesse \t [ 1.6344    0.78347  -0.039451  1.1204    1.7222  ]\n",
            "OOV word: sembiava, \t vector used: sembrava \t [ 1.3384   1.3271  -0.76626 -1.1606  -0.10625]\n",
            "\n",
            "\n",
            "There are 96 words with zero vectors. Here we show some:\n",
            "['<PAD>' '\\n' 'risonavan' 'gittansi' 'ubidente' 'salutevol' 'farmisi'\n",
            " 'mugghia' 'disiato' 'caggiono' 'rabbuffa' 'avaccio' 'ruffian' 'adeschi'\n",
            " 'menommi' 'tacerci' 'dienno' 'distorse' 'appressavan' 'temesti'\n",
            " 'parlasia' 'navicar' 'disfaccia' 'Danar' 'Isopo' 'venieno' 'aggroppate'\n",
            " 'biece' 'Ogne' 'nvidio' 'scorgessi' 'guerir' 'triunfar' 'ossame'\n",
            " 'discarno' 'pontan' 'zebe' 'Beccheria' 'impetrai' 'sovvegna' 'ristrinsi'\n",
            " 'affisar' 'Oriaco' 'sodisfar' 'inforcar' 'ncarco' 'sodisfaccia'\n",
            " 'superbite' 'secondamente' 'iracundia']\n"
          ]
        }
      ]
    },
    {
      "cell_type": "markdown",
      "metadata": {
        "id": "KIdgTbySixF6"
      },
      "source": [
        "##Preprocessing"
      ]
    },
    {
      "cell_type": "markdown",
      "metadata": {
        "id": "n1ab1krNi_-P"
      },
      "source": [
        "We inspect the sequences length to define a proper maximum sequence length for the model.\n",
        "We will set two maximum sequence lengths: one for the encoder and one for the decoder. The decoder will have 1 token more since its input will include the `<SOS>` token and the output the `<EOS>` token.\n"
      ]
    },
    {
      "cell_type": "code",
      "metadata": {
        "colab": {
          "base_uri": "https://localhost:8080/"
        },
        "id": "T31jP_TTCa3P",
        "outputId": "41ec66c3-ca5f-44c0-c8cd-c899a201695c"
      },
      "source": [
        "def check_max_sequence_length(sequences):\n",
        "    from collections import Counter\n",
        "    len_seq = [len(s) for s in sequences]\n",
        "    len_frequencies = Counter(list(len_seq))\n",
        "    print(f\"List of tuples of (line length, # of lines):\\n{sorted(len_frequencies.items())}\")\n",
        "\n",
        "    #Print unnecessary lines which are too short or too long that may cause misleading predictions\n",
        "    #Also choosing a bigger MAX_SEQUENCE_LENGTH may cause more computational time.\n",
        "    print(f\"There are {len_frequencies[1]} lines with length 0 (will be excluded from dataset)\")\n",
        "    for i, value in enumerate(len_seq):\n",
        "      if value==3 or value>=14:\n",
        "        print(f\"Length: {value}\\t Line: {sequences[i]}\")\n",
        "\n",
        "check_max_sequence_length(sequences)"
      ],
      "execution_count": 12,
      "outputs": [
        {
          "output_type": "stream",
          "name": "stdout",
          "text": [
            "List of tuples of (line length, # of lines):\n",
            "[(0, 100), (3, 12), (4, 182), (5, 1046), (6, 2802), (7, 3991), (8, 3351), (9, 1786), (10, 722), (11, 252), (12, 63), (13, 20), (14, 4), (15, 2)]\n",
            "There are 0 lines with length 0 (will be excluded from dataset)\n",
            "Length: 15\t Line: l'umana spezie e 'l loco e 'l tempo e 'l seme\n",
            "Length: 14\t Line: e sta 'n su quel più che 'n su l'altro eretto\n",
            "Length: 14\t Line: così com' ella sie' tra 'l piano e 'l monte\n",
            "Length: 14\t Line: tra 'l quinto dì e 'l sesto ond' io mi diedi\n",
            "Length: 3\t Line: maravigliando diventaro smorte\n",
            "Length: 15\t Line: tra 'l Po e 'l monte e la marina e 'l Reno\n",
            "Length: 3\t Line: lungamente mostrando paganesmo\n",
            "Length: 3\t Line: apparecchiava grazioso loco\n",
            "Length: 3\t Line: superillustrans claritate tua\n",
            "Length: 3\t Line: silogizzò invidiosi veri\n",
            "Length: 3\t Line: cotanto gloriosamente accolto\n",
            "Length: 3\t Line: etternalmente rimanendosi una\n",
            "Length: 3\t Line: DILIGITE IUSTITIAM primai\n",
            "Length: 3\t Line: surgono innumerabili faville\n",
            "Length: 3\t Line: così benedicendomi cantando\n",
            "Length: 14\t Line: di' quel ch'ell' è di' come se ne 'nfiora\n",
            "Length: 3\t Line: perpetualemente Osanna sberna\n",
            "Length: 3\t Line: stupefaciensi quando Laterano\n"
          ]
        }
      ]
    },
    {
      "cell_type": "markdown",
      "metadata": {
        "id": "-gGOFulise4U"
      },
      "source": [
        "We choose a `MAX_SEQ_LEN` of 11 as a tradeoff in order to discard few and unnecessary long sequences that would increase the model complexity and training time.\n",
        "\n",
        "Then, we clean the dataset from too long and too short sequences."
      ]
    },
    {
      "cell_type": "code",
      "metadata": {
        "id": "oTR_T9a7QVw8"
      },
      "source": [
        "MAX_SEQ_LEN_ENCODER = 11\n",
        "MAX_SEQ_LEN_DECODER = MAX_SEQ_LEN_ENCODER + 1"
      ],
      "execution_count": 13,
      "outputs": []
    },
    {
      "cell_type": "code",
      "metadata": {
        "id": "lvPqTjT1UXQG"
      },
      "source": [
        "def clean_dataset(sequences, MAX_SEQ_LEN_ENCODER):\n",
        "    len_seq = [len(s) for s in sequences]\n",
        "    indices = []\n",
        "    #Loop to get hte indexes of too long and short sequences\n",
        "    for i, value in enumerate(len_seq):\n",
        "        #Select sequences of lengtg of 3 or lesser and 11 or lesser\n",
        "        if value < 4 or value>MAX_SEQ_LEN_ENCODER:\n",
        "            indices.append(i)\n",
        "    #Loop to delete sequences of found indexes\n",
        "    for i in sorted(indices, reverse=True):\n",
        "        del sequences[i]\n",
        "    return sequences\n",
        "\n",
        "sequences = clean_dataset(sequences, MAX_SEQ_LEN_ENCODER)"
      ],
      "execution_count": 14,
      "outputs": []
    },
    {
      "cell_type": "markdown",
      "metadata": {
        "id": "nzJd0FArsYfC"
      },
      "source": [
        "##Encoding model inputs"
      ]
    },
    {
      "cell_type": "markdown",
      "metadata": {
        "id": "5Y2JsDUDtedv"
      },
      "source": [
        "The `encode_dataset` function transforms the sequences of the dataset into encoded ones using the word2idx dictionary.\n",
        "\n",
        "In an Encoder/Decoder model designed for text generation we have two parts which receive and produce different inputs and outputs respectively.\n",
        "\n",
        "Assuming the special tokens `<PAD> = 0`, `<SOS> = 1`, `<EOS> = 2`\n",
        "\n",
        "The Encoder has the task to produce a hidden representation of the sentence: so, it will receive as input the encoded sentence padded without any additional token (i.e. sentence to be fed = \"Nel mezzo del cammin di nostra vita\", input to be fed to the encoder = [3 4 5 6 7 8 9 0 0 0 0]) and produce through an RNN the states that will gives a better context representation and will be passed to the decoder.\n",
        "\n",
        "The Decoder instead will be fed with inputs and outputs:\n",
        "* the input is in the form: `<SOS>` + encoded sentence = [1 3 4 5 6 7 8 9 0 0 0 0]\n",
        "* the output is in the form: encoded sentence + `<EOS>` = [3 4 5 6 7 8 9 2 0 0 0 0]\n",
        "\n",
        "\n",
        "`preprocess_encoder_input` encodes the input of the encoder as previously said, so we simply pad the sequence.\n",
        "\n",
        "`preprocess_decoder_input` produces the decoder input and output are previously said."
      ]
    },
    {
      "cell_type": "code",
      "metadata": {
        "id": "k5XvmSBCinL2"
      },
      "source": [
        "from tensorflow.keras.preprocessing.sequence import pad_sequences\n",
        "\n",
        "def encode_dataset(sequences, word2idx):\n",
        "    encoded = []\n",
        "    for seq in sequences:\n",
        "      encoded_seq = []\n",
        "      for word in seq: \n",
        "        encoded_seq.append(word2idx[word.text])\n",
        "      encoded.append(encoded_seq)  \n",
        "    return encoded\n",
        "\n",
        "def preprocess_encoder_input(input, max_len, word2idx):\n",
        "    encoder_input_data = pad_sequences(input, maxlen=max_len, padding=\"post\", truncating=\"pre\")\n",
        "    return encoder_input_data\n",
        "\n",
        "def preprocess_decoder_input(input, max_len, word2idx):\n",
        "    sos_token = [word2idx[\"<SOS>\"]]\n",
        "    eos_token = [word2idx[\"<EOS>\"]]\n",
        "    decoder_input = [sos_token + line for line in input]\n",
        "    decoder_output = [line + eos_token for line in input]\n",
        "    decoder_input_data = pad_sequences(decoder_input, maxlen=max_len, padding=\"post\", truncating=\"pre\")\n",
        "    decoder_output_data = pad_sequences(decoder_output, maxlen=max_len, padding=\"post\", truncating=\"pre\")\n",
        "    return decoder_input_data, decoder_output_data\n",
        "\n",
        "encoded_sequences = encode_dataset(sequences, word2idx)\n",
        "encoder_input = preprocess_encoder_input(encoded_sequences, MAX_SEQ_LEN_ENCODER, word2idx) \n",
        "decoder_input, decoder_output = preprocess_decoder_input(encoded_sequences, MAX_SEQ_LEN_DECODER, word2idx)"
      ],
      "execution_count": 15,
      "outputs": []
    },
    {
      "cell_type": "markdown",
      "metadata": {
        "id": "mQYeNYjA84V_"
      },
      "source": [
        "Simply function to check if the inputs have been encoded correctly"
      ]
    },
    {
      "cell_type": "code",
      "metadata": {
        "colab": {
          "base_uri": "https://localhost:8080/"
        },
        "id": "09-jOnA5UzwH",
        "outputId": "c8d16333-8c31-4862-9926-a382dcdcc303"
      },
      "source": [
        "def decode_sequence(sequence, idx2word):\n",
        "    s = []\n",
        "    for i in sequence:\n",
        "        s.append(idx2word[i])\n",
        "    return \" \".join(s)\n",
        "\n",
        "print(f\"Encoder input: {decode_sequence(encoder_input[0], idx2word)}\")\n",
        "print(f\"Decoder input: {decode_sequence(decoder_input[0], idx2word)}\")\n",
        "print(f\"Decoder output: {decode_sequence(decoder_output[0], idx2word)}\")"
      ],
      "execution_count": 16,
      "outputs": [
        {
          "output_type": "stream",
          "name": "stdout",
          "text": [
            "Encoder input: Nel mezzo del cammin di nostra vita <PAD> <PAD> <PAD> <PAD>\n",
            "Decoder input: <SOS> Nel mezzo del cammin di nostra vita <PAD> <PAD> <PAD> <PAD>\n",
            "Decoder output: Nel mezzo del cammin di nostra vita <EOS> <PAD> <PAD> <PAD> <PAD>\n"
          ]
        }
      ]
    },
    {
      "cell_type": "code",
      "metadata": {
        "colab": {
          "base_uri": "https://localhost:8080/"
        },
        "id": "f_4mgtEpzMKF",
        "outputId": "4996d5d7-8d0b-421e-8e3b-b30944268498"
      },
      "source": [
        "#Clear cache with garbage collector\n",
        "import gc\n",
        "gc.collect()"
      ],
      "execution_count": 33,
      "outputs": [
        {
          "output_type": "execute_result",
          "data": {
            "text/plain": [
              "4731"
            ]
          },
          "metadata": {},
          "execution_count": 33
        }
      ]
    },
    {
      "cell_type": "code",
      "metadata": {
        "id": "023WG94YdLOc"
      },
      "source": [
        "encoder_input1 = encoder_input[:-1]\n",
        "decoder_input1 = decoder_input[1:]\n",
        "decoder_output1 = decoder_output[1:]"
      ],
      "execution_count": 51,
      "outputs": []
    },
    {
      "cell_type": "markdown",
      "metadata": {
        "id": "uRrqg9NU9UOX"
      },
      "source": [
        "##Building the model"
      ]
    },
    {
      "cell_type": "markdown",
      "metadata": {
        "id": "TjeZhgE_-LNj"
      },
      "source": [
        "In this section we build our model. We define the classes for Encoder and Decoder:\n",
        "* Encoder: after passing the input to the Embedding layer, we go through two stacked GRUs and pass the final state to the Decoder\n",
        "\n",
        "* Decoder: is made of two stacked GRUs whose states are initialized with the output states of the Encoder final layer. The final layer of the decoder is a Dense Layer with softmax function to get the categorical probabilities for each token to be the next one.\n",
        "\n",
        "\n",
        "**NB:** We cannot use Bidirectional GRU in the Decoder part since we should not know anything about the next tokens and we are predicting the probabilities of the next tokens we can work only in one direction.\n",
        "\n",
        "Remember to always return the sequences when stacking GRU layers and to pass the state to remember the context, so to not make independent calls on layers."
      ]
    },
    {
      "cell_type": "code",
      "metadata": {
        "id": "1Wm6XEbKCD2A"
      },
      "source": [
        ""
      ],
      "execution_count": null,
      "outputs": []
    },
    {
      "cell_type": "code",
      "metadata": {
        "id": "9RQfoVzWlqeR",
        "colab": {
          "base_uri": "https://localhost:8080/",
          "height": 201
        },
        "outputId": "533916d2-85ae-4c16-ea7d-bd40171e94e7"
      },
      "source": [
        "import tensorflow as tf\n",
        "import tensorflow_addons as tfa\n",
        "\n",
        "UNITS = 500\n",
        "BATCH_SIZE = 32\n",
        "\n",
        "class Encoder(tf.keras.Model):\n",
        "    def __init__(self):\n",
        "        super().__init__()\n",
        "        self.embed = tf.keras.layers.Embedding(input_dim = VOCAB_SIZE, \n",
        "                                               output_dim = EMBEDDING_DIM, \n",
        "                                               input_length=MAX_SEQ_LEN_ENCODER,\n",
        "                                               trainable=True, #we set trainable=True to train word embeddings during training\n",
        "                                               mask_zero=True, #to ignore padding tokens\n",
        "                                               embeddings_initializer=tf.keras.initializers.Constant(embedding_matrix))\n",
        "        self.gru1 = tf.keras.layers.GRU(UNITS, return_sequences=True, return_state=True, dropout=0.2, recurrent_initializer='glorot_uniform')\n",
        "        self.gru2 = tf.keras.layers.GRU(UNITS, return_sequences=True, return_state=True, dropout=0.2, recurrent_initializer='glorot_uniform')\n",
        "\n",
        "        \n",
        "        \n",
        "    def call(self, x):\n",
        "        embed = self.embed(x)\n",
        "        out, h = self.gru1(embed)\n",
        "        out, h = self.gru2(out, initial_state=h)\n",
        "        return h\n",
        "\n",
        "\n",
        "class Decoder(tf.keras.Model):\n",
        "    def __init__(self):\n",
        "        super().__init__()\n",
        "        self.embed = tf.keras.layers.Embedding(input_dim = VOCAB_SIZE, \n",
        "                                               output_dim = EMBEDDING_DIM, \n",
        "                                               input_length=MAX_SEQ_LEN_DECODER,\n",
        "                                               trainable=True, #we set trainable=True to train word embeddings during training\n",
        "                                               mask_zero=True, #to ignore padding tokens\n",
        "                                               embeddings_initializer=tf.keras.initializers.Constant(embedding_matrix))\n",
        "        \"\"\"\n",
        "        Tried implementing AdditiveAttention but no success\n",
        "        self.attention = tf.keras.layers.AdditiveAttention()\n",
        "        self.Wc = tf.keras.layers.Dense(UNITS, activation=\"tanh\", use_bias=False)\n",
        "        \"\"\"\n",
        "        self.gru1 = tf.keras.layers.GRU(UNITS, return_sequences=True, return_state=True, dropout=0.2, recurrent_initializer='glorot_uniform')\n",
        "        self.gru2 = tf.keras.layers.GRU(UNITS, return_sequences=True, return_state=True, dropout=0.2, recurrent_initializer='glorot_uniform')\n",
        "        #Prediction layer with softmax function to get probabilities for each token in the vocabulary\n",
        "        self.fc = tf.keras.layers.Dense(VOCAB_SIZE, activation='softmax')\n",
        "        \n",
        "    def call(self, x, init_state):\n",
        "        embed = self.embed(x)\n",
        "        out, h = self.gru1(embed, initial_state = init_state)\n",
        "        out, h = self.gru2(out, initial_state = h)\n",
        "        \"\"\"\n",
        "        context_vector, attention_weights = self.attention([out, init_state], return_attention_scores=True)\n",
        "\n",
        "        # Step 4. Eqn. (3): Join the context_vector and rnn_output\n",
        "        #     [ct; ht] shape: (batch t, value_units + query_units)\n",
        "        context_and_rnn_output = tf.keras.layers.Concatenate(axis=-1)([context_vector, out])\n",
        "\n",
        "        # Step 4. Eqn. (3): `at = tanh(Wc@[ct; ht])`\n",
        "        attention_vector = self.Wc(context_and_rnn_output)\n",
        "        \n",
        "        out = self.fc(attention_vector)\n",
        "        \"\"\"\n",
        "        out = self.fc(out)\n",
        "        return out, h\n",
        "\n",
        "#Initialize the Encoder and Decoder\n",
        "encoder_model = Encoder()\n",
        "decoder_model = Decoder()\n",
        "\n",
        "#Define Input shapes\n",
        "encoder_inputs = tf.keras.layers.Input(shape=(MAX_SEQ_LEN_ENCODER,))\n",
        "decoder_inputs = tf.keras.layers.Input(shape=(MAX_SEQ_LEN_DECODER,))\n",
        "\n",
        "#Assign variables to models\n",
        "enc_state = encoder_model(encoder_inputs)\n",
        "decoder_outputs, _ = decoder_model(decoder_inputs, enc_state)\n",
        "\n",
        "#Define the Model\n",
        "seq2seq = tf.keras.Model([encoder_inputs, decoder_inputs], decoder_outputs)\n",
        "\n",
        "#Plot model\n",
        "from keras.utils.vis_utils import plot_model\n",
        "plot_model(seq2seq, show_shapes=True, show_layer_names=True)"
      ],
      "execution_count": 121,
      "outputs": [
        {
          "output_type": "execute_result",
          "data": {
            "image/png": "[encoded data removed]",
            "text/plain": [
              "<IPython.core.display.Image object>"
            ]
          },
          "metadata": {},
          "execution_count": 121
        }
      ]
    },
    {
      "cell_type": "code",
      "metadata": {
        "id": "3jU7KYVNEc5g",
        "colab": {
          "base_uri": "https://localhost:8080/"
        },
        "outputId": "585c9c77-4874-4c3c-a5bf-9123bb54fa61"
      },
      "source": [
        "BATCH_SIZE = 32\n",
        "EPOCHS = 10\n",
        "loss = tf.losses.SparseCategoricalCrossentropy()\n",
        "seq2seq.compile(optimizer=\"nadam\", loss=loss, metrics=['accuracy'])\n",
        "seq2seq.fit([encoder_input, decoder_input], decoder_output,\n",
        "          batch_size=BATCH_SIZE,\n",
        "          epochs=EPOCHS)"
      ],
      "execution_count": 123,
      "outputs": [
        {
          "output_type": "stream",
          "name": "stdout",
          "text": [
            "Epoch 1/10\n",
            "442/442 [==============================] - 25s 32ms/step - loss: 3.4804 - accuracy: 0.3415\n",
            "Epoch 2/10\n",
            "442/442 [==============================] - 15s 33ms/step - loss: 2.1648 - accuracy: 0.5271\n",
            "Epoch 3/10\n",
            "442/442 [==============================] - 14s 32ms/step - loss: 1.4338 - accuracy: 0.6283\n",
            "Epoch 4/10\n",
            "442/442 [==============================] - 14s 32ms/step - loss: 0.8759 - accuracy: 0.7596\n",
            "Epoch 5/10\n",
            "442/442 [==============================] - 14s 32ms/step - loss: 0.4978 - accuracy: 0.8679\n",
            "Epoch 6/10\n",
            "442/442 [==============================] - 15s 33ms/step - loss: 0.2983 - accuracy: 0.9241\n",
            "Epoch 7/10\n",
            "442/442 [==============================] - 14s 32ms/step - loss: 0.1943 - accuracy: 0.9530\n",
            "Epoch 8/10\n",
            "442/442 [==============================] - 14s 32ms/step - loss: 0.1401 - accuracy: 0.9670\n",
            "Epoch 9/10\n",
            "442/442 [==============================] - 14s 33ms/step - loss: 0.1136 - accuracy: 0.9728\n",
            "Epoch 10/10\n",
            "442/442 [==============================] - 15s 33ms/step - loss: 0.0943 - accuracy: 0.9774\n"
          ]
        },
        {
          "output_type": "execute_result",
          "data": {
            "text/plain": [
              "<keras.callbacks.History at 0x7f1561eb69a0>"
            ]
          },
          "metadata": {},
          "execution_count": 123
        }
      ]
    },
    {
      "cell_type": "code",
      "metadata": {
        "id": "WuhjWYjDnzs5"
      },
      "source": [
        "seq2seq.save_weights(\"seq2seq.h5\")"
      ],
      "execution_count": 124,
      "outputs": []
    },
    {
      "cell_type": "markdown",
      "metadata": {
        "id": "4QOyiAOGFfnk"
      },
      "source": [
        "##Different Sampling techniques with evaluation (BLEU score)"
      ]
    },
    {
      "cell_type": "markdown",
      "metadata": {
        "id": "ifYR67YJ6j5t"
      },
      "source": [
        "We will experiment different sampling methods:\n",
        "\n",
        "1. Greedy search\n",
        "2. Top-k sampling\n",
        "3. Temperature sampling\n",
        "4. Beam search"
      ]
    },
    {
      "cell_type": "markdown",
      "metadata": {
        "id": "YiRKP807LXal"
      },
      "source": [
        "###Greedy search"
      ]
    },
    {
      "cell_type": "code",
      "metadata": {
        "colab": {
          "base_uri": "https://localhost:8080/"
        },
        "id": "H3eV8WUMLbEQ",
        "outputId": "f8275355-b49f-4d6c-b291-424913e71459"
      },
      "source": [
        "from tensorflow.keras.preprocessing.sequence import pad_sequences\n",
        "\n",
        "def encode_sequence(seq):\n",
        "    encoded_seq = []\n",
        "    for j in seq.split(\" \"):\n",
        "      if j != \"\":\n",
        "        encoded_seq.append(word2idx[j])\n",
        "    encoded_seq = [encoded_seq]\n",
        "    padded_seq = pad_sequences(encoded_seq, maxlen=MAX_SEQ_LEN_ENCODER, padding=\"post\", truncating=\"pre\")\n",
        "    return padded_seq\n",
        "\n",
        "def greedy_search(predictions):\n",
        "    return np.argmax(predictions)\n",
        "\n",
        "def greedy_sampling(input_seq):\n",
        "    state = encoder_model(input_seq)\n",
        "    target_seq = np.array([[word2idx['<SOS>']]])\n",
        "    decoded_sentence = ''\n",
        "    while True:\n",
        "        output_tokens, state = decoder_model(target_seq, state)\n",
        "        preds = output_tokens[0, -1, :]\n",
        "        sampled_token_index = greedy_search(preds)\n",
        "        sampled_char = idx2word[sampled_token_index]\n",
        "        decoded_sentence += sampled_char\n",
        "        decoded_sentence += \" \"\n",
        "        if (sampled_char == '<EOS>' or\n",
        "           len(decoded_sentence.split()) > 7):\n",
        "            decoded_sentence = re.sub(\"<EOS>\", \"\",decoded_sentence)\n",
        "            break\n",
        "        target_seq = np.array([[sampled_token_index]])\n",
        "    return decoded_sentence\n",
        "\n",
        "input_seq = \"Nel mezzo del cammin di nostra vita\"\n",
        "generated_text = []\n",
        "for i in range (0, 5):\n",
        "  padded_seq = encode_sequence(input_seq)\n",
        "  decoded_sentence = greedy_sampling(padded_seq)\n",
        "  print(decoded_sentence)\n",
        "  generated_text.append(decoded_sentence)\n",
        "  input_seq = decoded_sentence"
      ],
      "execution_count": 125,
      "outputs": [
        {
          "output_type": "stream",
          "name": "stdout",
          "text": [
            "onde maligno spesso discerne ne torse altre braccia \n",
            "verso settentrion Se Se vedere  \n",
            "maraviglia grazioso  \n",
            "benedetto cortese  \n",
            "benedetto cortese  \n"
          ]
        }
      ]
    },
    {
      "cell_type": "code",
      "metadata": {
        "colab": {
          "base_uri": "https://localhost:8080/"
        },
        "id": "ocVDxakiMVKF",
        "outputId": "8486a482-edb4-431d-c236-f9534d69db8d"
      },
      "source": [
        "from nltk.translate.bleu_score import sentence_bleu, corpus_bleu, SmoothingFunction\n",
        "\n",
        "def bleu(data, generated, weights=(0.25,0.25,0.25,0.25)):\n",
        "  cc = SmoothingFunction()\n",
        "  references = [seq.text.split() for seq in data]\n",
        "  hypothesis = [seq.split() for seq in generated]\n",
        "  scores = []\n",
        "  for i in range(len(hypothesis)):\n",
        "    bleu_score = sentence_bleu(references, generated[i], weights=weights, smoothing_function=cc.method4)\n",
        "    scores.append(bleu_score)\n",
        "  return sum(scores)/len(scores)\n",
        "  \n",
        "print(f\"BLEU score for greedy sampling: {bleu(sequences, generated_text)}\\n\")"
      ],
      "execution_count": 126,
      "outputs": [
        {
          "output_type": "stream",
          "name": "stdout",
          "text": [
            "BLEU score for greedy sampling: 0.01764365974494128\n",
            "\n"
          ]
        }
      ]
    },
    {
      "cell_type": "markdown",
      "metadata": {
        "id": "wYvuomHZMkoN"
      },
      "source": [
        "###Temperature sampling"
      ]
    },
    {
      "cell_type": "code",
      "metadata": {
        "colab": {
          "base_uri": "https://localhost:8080/"
        },
        "id": "RHvszb0pMkUg",
        "outputId": "560f7eb4-01c5-4865-bcaf-b304b24e1ff3"
      },
      "source": [
        "def temperature(predictions, temp):\n",
        "    conditional_probability = np.asarray(predictions).astype(\"float64\")\n",
        "    conditional_probability = np.log(conditional_probability) / temp\n",
        "    exp_preds = np.exp(conditional_probability)\n",
        "    conditional_probability = exp_preds / np.sum(exp_preds)\n",
        "    probs = np.random.multinomial(1, conditional_probability, 1)\n",
        "    return np.argmax(probs)\n",
        "\n",
        "def temperature_sampling(input_seq, temp):\n",
        "    state = encoder_model(input_seq)\n",
        "    target_seq = np.array([[word2idx['<SOS>']]])\n",
        "    decoded_sentence = ''\n",
        "    while True:\n",
        "        output_tokens, state = decoder_model(target_seq, state)\n",
        "        preds = output_tokens[0, -1, :]\n",
        "        sampled_token_index = temperature(preds, temp=temp)\n",
        "        sampled_char = idx2word[sampled_token_index]\n",
        "        decoded_sentence += sampled_char\n",
        "        decoded_sentence += \" \"\n",
        "        if (sampled_char == '<EOS>' or\n",
        "           len(decoded_sentence.split()) > 7):\n",
        "            decoded_sentence = re.sub(\"<EOS>\", \"\",decoded_sentence)\n",
        "            break\n",
        "        target_seq = np.array([[sampled_token_index]])\n",
        "    return decoded_sentence\n",
        "\n",
        "\n",
        "temperatures = [0.3, 0.7, 1, 1.5]\n",
        "for t in temperatures:\n",
        "  print(f\"Sampling with temperature {t}:\")\n",
        "  generated_text = []\n",
        "  input_seq = \"Nel mezzo del cammin di nostra vita\"\n",
        "  for i in range (0, 5):\n",
        "    padded_seq = encode_sequence(input_seq)\n",
        "    decoded_sentence = temperature_sampling(padded_seq, t)\n",
        "    print(decoded_sentence)\n",
        "    generated_text.append(decoded_sentence)\n",
        "    input_seq = decoded_sentence\n",
        "  print(f\"BLEU score for temperature {t}: {bleu(sequences, generated_text)}\\n\")"
      ],
      "execution_count": 127,
      "outputs": [
        {
          "output_type": "stream",
          "name": "stdout",
          "text": [
            "Sampling with temperature 0.3:\n",
            "onde disfavilla Tale campagna quando  \n",
            "sanza distinzione se ' frutti Ben puote puote \n",
            "etterno riguardando se ' ntendi se ' ntendi \n",
            "etterno intelletto e quello suono de le rede \n",
            "etterno intelletto e altro puote ama che sia \n",
            "BLEU score for temperature 0.3: 0.012275325973785233\n",
            "\n",
            "Sampling with temperature 0.7:\n",
            "verso picciola distese dove levai le spalle e \n",
            "sanza conoscenza ne rube avvinte e cresciuto ne \n",
            "etterno resplende ne convegna m' aiuti e disse \n",
            "picciol vederai ricchi e lavi vi puose  \n",
            "maraviglia palese spirto come ciel de le rede \n",
            "BLEU score for temperature 0.7: 0.01205621230501042\n",
            "\n",
            "Sampling with temperature 1:\n",
            "costoro sospeccioso falseggiando quanta augelli mio  \n",
            "mirabil pietosamente alternando  \n",
            "orgoglio cortese Per modo insurgo  \n",
            "etterno levato  \n",
            "principio priva usanza  \n",
            "BLEU score for temperature 1: 0.01648941689780723\n",
            "\n",
            "Sampling with temperature 1.5:\n",
            "penitenza spense lusinghe vanta Felice  \n",
            "giron diritto chiavi  \n",
            "splendori region Romena come grifo  \n",
            "reverenza suona lasciando fedele o ntese  \n",
            "oriente preme dipinte  \n",
            "BLEU score for temperature 1.5: 0.015307546363525012\n",
            "\n"
          ]
        }
      ]
    },
    {
      "cell_type": "markdown",
      "metadata": {
        "id": "_a-teF-4OJNA"
      },
      "source": [
        "### Top-k sampling"
      ]
    },
    {
      "cell_type": "code",
      "metadata": {
        "colab": {
          "base_uri": "https://localhost:8080/"
        },
        "id": "naYXl5595Ows",
        "outputId": "91eb7dfc-1a3d-4050-d334-9ec33ebae38f"
      },
      "source": [
        "def softmax(z):\n",
        "   return np.exp(z)/sum(np.exp(z))\n",
        "\n",
        "def top_k(predictions, k):\n",
        "    top_k_probabilities, top_k_indices= tf.math.top_k(predictions, k=k, sorted=True)\n",
        "    top_k_indices = np.asarray(top_k_indices).astype(\"int32\")\n",
        "    top_k_redistributed_probability=softmax(np.log(top_k_probabilities))\n",
        "    top_k_redistributed_probability = np.asarray(top_k_redistributed_probability).astype(\"float32\")\n",
        "    sampled_token = np.random.choice(top_k_indices, p=top_k_redistributed_probability)\n",
        "    return sampled_token\n",
        "\n",
        "def top_k_sampling(input_seq, k):\n",
        "    state = encoder_model(input_seq)\n",
        "    target_seq = np.array([[word2idx['<SOS>']]])\n",
        "    decoded_sentence = ''\n",
        "    while True:\n",
        "        output_tokens, state = decoder_model(target_seq, state)\n",
        "        preds = output_tokens[0, -1, :]\n",
        "        sampled_token_index = top_k(preds, k=k)\n",
        "        sampled_char = idx2word[sampled_token_index]\n",
        "        decoded_sentence += sampled_char\n",
        "        decoded_sentence += \" \"\n",
        "        if (sampled_char == '<EOS>' or\n",
        "           len(decoded_sentence.split()) > 7):\n",
        "            decoded_sentence = re.sub(\"<EOS>\", \"\",decoded_sentence)\n",
        "            break\n",
        "        target_seq = np.array([[sampled_token_index]])\n",
        "    return decoded_sentence\n",
        "\n",
        "\n",
        "input_seq = \"Nel mezzo del cammin di nostra vita\"\n",
        "generated_text = []\n",
        "for i in range (0, 5):\n",
        "  padded_seq = encode_sequence(input_seq)\n",
        "  decoded_sentence = top_k_sampling(padded_seq, 10)\n",
        "  print(decoded_sentence)\n",
        "  generated_text.append(decoded_sentence)\n",
        "  input_seq = decoded_sentence\n",
        "print(f\"BLEU score for top-k sampling: {bleu(sequences, generated_text)}\\n\")"
      ],
      "execution_count": 129,
      "outputs": [
        {
          "output_type": "stream",
          "name": "stdout",
          "text": [
            "onde maligno come creatura vedi o fren metti \n",
            "onde parevi Però lava  \n",
            "appresso paladino  \n",
            "infinito fisso pio pio pio ti rispondo nè \n",
            "libero peccato Se Se manifesto  \n",
            "BLEU score for top-k sampling: 0.01829532971148996\n",
            "\n"
          ]
        }
      ]
    },
    {
      "cell_type": "markdown",
      "metadata": {
        "id": "fYD84E0sQFfJ"
      },
      "source": [
        "###Beam search"
      ]
    },
    {
      "cell_type": "code",
      "metadata": {
        "colab": {
          "base_uri": "https://localhost:8080/"
        },
        "id": "-LN6Uyu3fJPW",
        "outputId": "76c51006-05ec-48be-d7bf-7e529c598190"
      },
      "source": [
        "def get_candidates(target_seq, state, k):\n",
        "    output_tokens, state = decoder_model(target_seq, state)\n",
        "    preds = output_tokens[0, -1, :]\n",
        "    top_k_probabilities, top_k_indices= tf.math.top_k(preds, k=k, sorted=True)\n",
        "    top_k_indices = np.asarray(top_k_indices).astype(\"int32\")\n",
        "    top_k_probabilities = np.asarray(top_k_probabilities).astype(\"float32\")\n",
        "    return top_k_indices, top_k_probabilities\n",
        "    \n",
        "\n",
        "def beam_search_inference(input_seq, k=3, max_words=5):\n",
        "    state = encoder_model(input_seq)\n",
        "    scores = [[(\"<SOS>\", 1.0)]]\n",
        "    target_seq = np.array([[word2idx['<SOS>']]])\n",
        "    for c in range (0, max_words):\n",
        "      for i in range (len(scores[c])):\n",
        "        k_scores = []\n",
        "        for seq, score in scores[c]:\n",
        "          target_seq = np.array([[word2idx[seq.split()[-1]]]])\n",
        "          top_k_indices, top_k_probabilities = get_candidates(target_seq, state, k)\n",
        "          for j in range (0, k):\n",
        "            inner_sentence = seq + \" \" + idx2word[top_k_indices[j]]\n",
        "            inner_score = score * np.log(top_k_probabilities[j])\n",
        "            inner_tup = (inner_sentence, inner_score)\n",
        "            k_scores.append(inner_tup)\n",
        "      scores.append(k_scores)\n",
        "    final_candidates = np.array([s for c,s in scores[-1]])\n",
        "    max_prob_idx = np.argmax(final_candidates)\n",
        "    final_seq = scores[-1][max_prob_idx][0]\n",
        "    final_seq = re.sub(\"<SOS> \", \"\",final_seq)\n",
        "    return final_seq\n",
        "\n",
        "\n",
        "input_seq = \"Nel mezzo del cammin di nostra vita\"\n",
        "generated_text = []\n",
        "for i in range (0, 5):\n",
        "  padded_seq = encode_sequence(input_seq)\n",
        "  decoded_sentence = beam_search_inference(padded_seq, k=2, max_words=6)\n",
        "  print(decoded_sentence)\n",
        "  generated_text.append(decoded_sentence)\n",
        "  input_seq = decoded_sentence\n",
        "print(f\"BLEU score for beam search: {bleu(sequences, generated_text)}\\n\")"
      ],
      "execution_count": 130,
      "outputs": [
        {
          "output_type": "stream",
          "name": "stdout",
          "text": [
            "onde maligno maraviglia forte maraviglia forte\n",
            "maraviglia perfetto intelletto etterno etterno etterno\n",
            "etterno peccato maraviglia allegrezza benedetto benedetto\n",
            "maraviglia allegrezza aspettar allegrezza aspettar allegrezza\n",
            "etterno peccato maraviglia allegrezza benedetto benedetto\n",
            "BLEU score for beam search: 0.010308649125204152\n",
            "\n"
          ]
        }
      ]
    },
    {
      "cell_type": "markdown",
      "metadata": {
        "id": "0ONFmxK40wcs"
      },
      "source": [
        "# Extra - Term frequency?"
      ]
    },
    {
      "cell_type": "code",
      "metadata": {
        "colab": {
          "base_uri": "https://localhost:8080/"
        },
        "id": "fUPQhf7n862t",
        "outputId": "66eaadf5-1901-4467-e45c-609a5b33bb8a"
      },
      "source": [
        "\"\"\"from collections import Counter\n",
        "\n",
        "def frequent_words(df):\n",
        "  corpus = [text for text in df.Text]\n",
        "  corpus = reduce(lambda x,y: x+y, corpus)\n",
        "  tokens = nlp(corpus)\n",
        "  df_list = [word.text for word in tokens]\n",
        "  word_counts = Counter(df_list)\n",
        "  del word_counts[\"\\n\"]\n",
        "  most_common = word_counts.most_common(50)\n",
        "  words = list(zip(*most_common))[0]\n",
        "  counts = list(zip(*most_common))[1]\n",
        "  plt.figure(figsize=(20, 10))\n",
        "  plt.bar(words, counts)\n",
        "  plt.show()\n",
        "  return word_counts\n",
        "\n",
        "word_counts = frequent_words(df)\"\"\""
      ],
      "execution_count": null,
      "outputs": [
        {
          "output_type": "execute_result",
          "data": {
            "text/plain": [
              "'from collections import Counter\\n\\ndef frequent_words(df):\\n  corpus = [text for text in df.Text]\\n  corpus = reduce(lambda x,y: x+y, corpus)\\n  tokens = nlp(corpus)\\n  df_list = [word.text for word in tokens]\\n  word_counts = Counter(df_list)\\n  del word_counts[\"\\n\"]\\n  most_common = word_counts.most_common(50)\\n  words = list(zip(*most_common))[0]\\n  counts = list(zip(*most_common))[1]\\n  plt.figure(figsize=(20, 10))\\n  plt.bar(words, counts)\\n  plt.show()\\n  return word_counts\\n\\nword_counts = frequent_words(df)'"
            ]
          },
          "metadata": {},
          "execution_count": 148
        }
      ]
    },
    {
      "cell_type": "code",
      "metadata": {
        "id": "UuxBZrRc3jFx",
        "colab": {
          "base_uri": "https://localhost:8080/"
        },
        "outputId": "10ed425b-6b84-44b4-9b9c-3396173b6805"
      },
      "source": [
        "\"\"\"def compute_tf(word_counts):\n",
        "  n_tokens = np.sum(list(word_counts.values()))\n",
        "  for k in word_counts:\n",
        "    word_counts[k] = 1 + np.log10(word_counts[k]) \n",
        "  return word_counts\n",
        "\n",
        "\n",
        "term_freq = compute_tf(word_counts)\"\"\""
      ],
      "execution_count": null,
      "outputs": [
        {
          "output_type": "execute_result",
          "data": {
            "text/plain": [
              "'def compute_tf(word_counts):\\n  n_tokens = np.sum(list(word_counts.values()))\\n  for k in word_counts:\\n    word_counts[k] = 1 + np.log10(word_counts[k]) \\n  return word_counts\\n\\n\\nterm_freq = compute_tf(word_counts)'"
            ]
          },
          "metadata": {},
          "execution_count": 149
        }
      ]
    },
    {
      "cell_type": "code",
      "metadata": {
        "id": "nnBjg2yO9HA1"
      },
      "source": [
        "def get_tf_matrix(input):\n",
        "    tf_matrix = np.zeros(shape=(input.shape[0], input.shape[1]))\n",
        "    for i, sequence in enumerate(input):\n",
        "      for j, word in enumerate(sequence):\n",
        "        tf_matrix[i, j] = term_freq[idx2word[word]]\n",
        "    return tf_matrix\n",
        "      \n",
        "tf_matrix = get_tf_matrix(decoder_input)"
      ],
      "execution_count": null,
      "outputs": []
    }
  ]
}